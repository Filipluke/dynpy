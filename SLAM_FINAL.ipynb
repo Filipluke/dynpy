{
 "metadata": {
  "language_info": {
   "codemirror_mode": {
    "name": "ipython",
    "version": 3
   },
   "file_extension": ".py",
   "mimetype": "text/x-python",
   "name": "python",
   "nbconvert_exporter": "python",
   "pygments_lexer": "ipython3",
   "version": "3.8.3"
  },
  "orig_nbformat": 2,
  "kernelspec": {
   "name": "python383jvsc74a57bd0948d73eb6dfda2e804d788ca8e9f193cc8a7762f6fd3fe59d9c3fe882d54f9f4",
   "display_name": "Python 3.8.3 64-bit ('anaconda3')"
  }
 },
 "nbformat": 4,
 "nbformat_minor": 2,
 "cells": [
  {
   "cell_type": "code",
   "execution_count": 77,
   "metadata": {},
   "outputs": [
    {
     "output_type": "display_data",
     "data": {
      "text/plain": "100.0"
     },
     "metadata": {}
    },
    {
     "output_type": "display_data",
     "data": {
      "text/plain": "100"
     },
     "metadata": {}
    },
    {
     "output_type": "display_data",
     "data": {
      "text/plain": "1.0"
     },
     "metadata": {}
    },
    {
     "output_type": "display_data",
     "data": {
      "text/plain": "2.0"
     },
     "metadata": {}
    },
    {
     "output_type": "display_data",
     "data": {
      "text/plain": "array([[58.55207768, 32.62117737],\n       [77.25132288, 72.2690247 ],\n       [94.40584323, 88.01817065],\n       [13.30421537, 50.26581172],\n       [27.24327499, 30.48230872],\n       [78.26858506, 54.06985999],\n       [91.76115346, 63.63264547],\n       [11.98819179, 29.02935492],\n       [46.96549599, 10.37799855],\n       [ 8.46395892,  6.01966828]])"
     },
     "metadata": {}
    }
   ],
   "source": [
    "from random import uniform\n",
    "from math import sqrt\n",
    "import numpy as np\n",
    "import matplotlib.pyplot as plt\n",
    "import matplotlib.animation as animation\n",
    "\n",
    "WORLD_SIZE = 100.0\n",
    "MEASUREMENT_RANGE = 100\n",
    "MOTION_NOISE = 1.0\n",
    "MEASUREMENT_NOISE = 2.0\n",
    "N_LANDMARKS = 10\n",
    "LANDMARKS = np.array(\n",
    "    [[uniform(0, WORLD_SIZE), uniform(0, WORLD_SIZE)]\n",
    "     for _ in range(N_LANDMARKS)]\n",
    "    )\n",
    "display(WORLD_SIZE)\n",
    "display(MEASUREMENT_RANGE)\n",
    "display(MOTION_NOISE)\n",
    "display(MEASUREMENT_NOISE)\n",
    "display(LANDMARKS)"
   ]
  },
  {
   "cell_type": "code",
   "execution_count": 78,
   "metadata": {},
   "outputs": [],
   "source": [
    "x0 = 25\n",
    "y0 = 25\n",
    "\n",
    "omega = np.array([[[0.0, 0.0] for _ in range(N_LANDMARKS + 1)]\n",
    "                              for _ in range(N_LANDMARKS + 1)])\n",
    "\n",
    "xi = np.array([[0.0, 0.0] for _ in range(N_LANDMARKS + 1)])\n",
    "omega[0, 0, :] = np.array([1.0, 1.0])\n",
    "xi[0, :] = np.array([x0, y0])\n",
    "\n",
    "#display(omega)\n",
    "#display(xi)"
   ]
  },
  {
   "source": [
    "# Robot class"
   ],
   "cell_type": "markdown",
   "metadata": {}
  },
  {
   "cell_type": "code",
   "execution_count": 79,
   "metadata": {},
   "outputs": [],
   "source": [
    "class Robot:\n",
    "    def __init__(self,\n",
    "                 world_size=WORLD_SIZE,\n",
    "                 measurement_range=MEASUREMENT_RANGE,\n",
    "                 motion_noise=MOTION_NOISE,\n",
    "                 measurement_noise=MEASUREMENT_NOISE):\n",
    "\n",
    "        self.world_size = world_size\n",
    "        self.measurement_range = measurement_range\n",
    "        self.motion_noise = motion_noise\n",
    "        self.measurement_noise = measurement_noise\n",
    "        self.x = x0\n",
    "        self.y = y0\n",
    "\n",
    "    def move(self, dx, dy):\n",
    "        x = self.x + dx + uniform(-1, 1)*self.motion_noise\n",
    "        y = self.y + dy + uniform(-1, 1)*self.motion_noise\n",
    "\n",
    "        self.x = x\n",
    "        self.y = y\n",
    "\n",
    "    def sense(self):\n",
    "        Z = []\n",
    "        for i, landmark in enumerate(LANDMARKS):\n",
    "            dx = landmark[0] - self.x + uniform(-1, 1)*self.measurement_noise\n",
    "            dy = landmark[1] - self.y + uniform(-1, 1)*self.measurement_noise\n",
    "            if self.measurement_range < 0.0 or sqrt(dx**2 + dy**2) <= self.measurement_range:\n",
    "                Z.append([i, dx, dy])\n",
    "        return Z\n",
    "\n",
    "    def __repr__(self):\n",
    "        return 'Robot: [x=%.5f y=%.5f]' % (self.x, self.y)\n",
    "\n"
   ]
  },
  {
   "source": [
    "# Slam algorithm"
   ],
   "cell_type": "markdown",
   "metadata": {}
  },
  {
   "cell_type": "code",
   "execution_count": 83,
   "metadata": {},
   "outputs": [],
   "source": [
    "def slam(i, dx, dy, Z):\n",
    "    global omega, xi\n",
    "    omega = np.insert(omega, i + 1, 0, axis=0)\n",
    "    omega = np.insert(omega, i + 1, 0, axis=1)\n",
    "    xi = np.insert(xi, i + 1, 0, axis=0)\n",
    "    for meas in Z:\n",
    "        j, x, y = meas\n",
    "        omega[i, i] = omega[i, i] + 1/MEASUREMENT_NOISE\n",
    "        omega[i, i + j + 2] = omega[i, i + j + 2] - 1/MEASUREMENT_NOISE\n",
    "        omega[i + j + 2, i] = omega[i + j + 2, i] - 1/MEASUREMENT_NOISE\n",
    "        omega[i + j + 2, i + j + 2] = omega[i + j + 2, i + j + 2] + 1/MEASUREMENT_NOISE\n",
    "        xi[i, :] = xi[i, :] - np.array([x, y])/MEASUREMENT_NOISE\n",
    "        xi[i + j + 2, :] = xi[i + j + 2, :] + np.array([x, y])/MEASUREMENT_NOISE\n",
    "    omega[i, i] = omega[i, i] + 1/MOTION_NOISE\n",
    "    omega[i + 1, i + 1] = omega[i + 1, i + 1] + 1/MOTION_NOISE\n",
    "    omega[i + 1, i] = omega[i + 1, i] - 1/MOTION_NOISE\n",
    "    omega[i, i + 1] = omega[i, i + 1] - 1/MOTION_NOISE\n",
    "    xi[i, :] = xi[i, :] - np.array([dx, dy])/MOTION_NOISE\n",
    "    xi[i + 1, :] = xi[i + 1, :] + np.array([dx, dy])/MOTION_NOISE\n",
    "    mu_x = np.linalg.inv(omega[:, :, 0]).dot(xi[:, 0])\n",
    "    mu_y = np.linalg.inv(omega[:, :, 1]).dot(xi[:, 1])\n",
    "    return np.c_[mu_x, mu_y]\n",
    "\n",
    "dx = [1 for _ in range(50)] + [0 for _ in range(50)]\n",
    "dx += [-1 for _ in range(50)] + [0 for _ in range(50)]\n",
    "dy = [0 for _ in range(50)] + [1 for _ in range(50)]\n",
    "dy += [0 for _ in range(50)] + [-1 for _ in range(50)]"
   ]
  },
  {
   "source": [
    "# Animation initialization"
   ],
   "cell_type": "markdown",
   "metadata": {}
  }
 ]
}