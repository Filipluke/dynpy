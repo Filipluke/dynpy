{
 "cells": [
  {
   "cell_type": "code",
   "execution_count": 1,
   "metadata": {
    "collapsed": false
   },
   "outputs": [
    {
     "ename": "ImportError",
     "evalue": "attempted relative import with no known parent package",
     "output_type": "error",
     "traceback": [
      "\u001b[0;31m---------------------------------------------------------------------------\u001b[0m",
      "\u001b[0;31mImportError\u001b[0m                               Traceback (most recent call last)",
      "\u001b[0;32m<ipython-input-1-a199d0d2c07f>\u001b[0m in \u001b[0;36m<module>\u001b[0;34m\u001b[0m\n\u001b[1;32m      1\u001b[0m \u001b[0;32mimport\u001b[0m \u001b[0mimportlib\u001b[0m\u001b[0;34m\u001b[0m\u001b[0;34m\u001b[0m\u001b[0m\n\u001b[0;32m----> 2\u001b[0;31m \u001b[0;32mimport\u001b[0m \u001b[0mdynpy\u001b[0m \u001b[0;32mas\u001b[0m \u001b[0mdyn\u001b[0m\u001b[0;34m\u001b[0m\u001b[0;34m\u001b[0m\u001b[0m\n\u001b[0m\u001b[1;32m      3\u001b[0m \u001b[0mimportlib\u001b[0m\u001b[0;34m.\u001b[0m\u001b[0mreload\u001b[0m\u001b[0;34m(\u001b[0m\u001b[0mdyn\u001b[0m\u001b[0;34m)\u001b[0m\u001b[0;34m\u001b[0m\u001b[0;34m\u001b[0m\u001b[0m\n\u001b[1;32m      4\u001b[0m \u001b[0;32mfrom\u001b[0m \u001b[0msympy\u001b[0m\u001b[0;34m.\u001b[0m\u001b[0mphysics\u001b[0m\u001b[0;34m.\u001b[0m\u001b[0mvector\u001b[0m \u001b[0;32mimport\u001b[0m \u001b[0mdynamicsymbols\u001b[0m\u001b[0;34m\u001b[0m\u001b[0;34m\u001b[0m\u001b[0m\n\u001b[1;32m      5\u001b[0m \u001b[0;32mfrom\u001b[0m \u001b[0msympy\u001b[0m \u001b[0;32mimport\u001b[0m \u001b[0;34m*\u001b[0m\u001b[0;34m\u001b[0m\u001b[0;34m\u001b[0m\u001b[0m\n",
      "\u001b[0;32m~/Shared files/dynpy.py\u001b[0m in \u001b[0;36m<module>\u001b[0;34m\u001b[0m\n\u001b[1;32m      7\u001b[0m \u001b[0;32mimport\u001b[0m \u001b[0mitertools\u001b[0m \u001b[0;32mas\u001b[0m \u001b[0mitools\u001b[0m\u001b[0;34m\u001b[0m\u001b[0;34m\u001b[0m\u001b[0m\n\u001b[1;32m      8\u001b[0m \u001b[0;32mimport\u001b[0m \u001b[0mscipy\u001b[0m\u001b[0;34m.\u001b[0m\u001b[0mintegrate\u001b[0m \u001b[0;32mas\u001b[0m \u001b[0msolver\u001b[0m\u001b[0;34m\u001b[0m\u001b[0;34m\u001b[0m\u001b[0m\n\u001b[0;32m----> 9\u001b[0;31m \u001b[0;32mfrom\u001b[0m \u001b[0;34m.\u001b[0m\u001b[0mtimeseries\u001b[0m \u001b[0;32mimport\u001b[0m \u001b[0;34m*\u001b[0m\u001b[0;34m\u001b[0m\u001b[0;34m\u001b[0m\u001b[0m\n\u001b[0m\u001b[1;32m     10\u001b[0m \u001b[0;34m\u001b[0m\u001b[0m\n\u001b[1;32m     11\u001b[0m \u001b[0;32mfrom\u001b[0m \u001b[0mIPython\u001b[0m\u001b[0;34m.\u001b[0m\u001b[0mdisplay\u001b[0m \u001b[0;32mimport\u001b[0m \u001b[0mdisplay\u001b[0m\u001b[0;34m\u001b[0m\u001b[0;34m\u001b[0m\u001b[0m\n",
      "\u001b[0;31mImportError\u001b[0m: attempted relative import with no known parent package"
     ]
    }
   ],
   "source": [
    "import importlib\n",
    "import dynpy as dyn\n",
    "importlib.reload(dyn)\n",
    "from sympy.physics.vector import dynamicsymbols\n",
    "from sympy import *\n",
    "from sympy.physics.mechanics import *\n",
    "import sympy as sym\n",
    "import numpy as np\n",
    "import pylatex\n",
    "from pylatex import Command, NoEscape\n",
    "import pint\n",
    "ureg = pint.UnitRegistry()\n",
    "\n",
    "mechanics_printing()\n",
    "\n",
    "\n",
    "\n",
    "t=Symbol('t') #independent variable - time\n",
    "\n",
    "\n",
    "\n",
    "### system parametes\n",
    "m_fr, m_rear,m_3, k_r, k_rt, k_f, k_ft = symbols('m_fr, m_r, M, k_r, k_rt, k_f, k_ft',positive=True)\n",
    "m,k,g,F_1,F_2,Omega,F,R,v0,u0= symbols('m,k,g,F_1,F_2,Omega, F_0 R, v_0,u_0',positive=True)\n",
    "I_ch, I_w , z_c3,l_fr,l_rear= symbols('I_chair, I_wheel, z_c3, l_fr, l_r',positive=True)\n",
    "m_RC, I_RC, l_RC, k_RC, phi0 = symbols('m_RC, I_RC, l_RC, k_RC, varphi_0',positive=True)\n",
    "m_w, I_wrc, r_w, k_w, k_fix,k_tire = symbols('m_w, I_wRC, R_w, k_w, k_fix, k_t',positive=True)\n",
    "c,c_mu,c_lam= symbols('c,c_mu, c_lambda',positive=True)\n",
    "a_ox, a_oz, a_rx ,a_rz=symbols('a_ox, a_oz, a_rx ,a_rz')\n",
    "\n",
    "pm=symbols('PM')\n",
    "\n",
    "t_l, delta_t,l_ramp,l_bumps = symbols('t_l,dt,l_ramp, l_bumps',positive=True)\n",
    "t0 = symbols('t_0')\n",
    "\n",
    "\n",
    "# generalized coordinates\n",
    "x,z_fr,z_rear,z, phi,phi_rc,theta,z_wrc = dynamicsymbols('x,z_fr,z_r,z, varphi,varphi_RC, theta, z_wrc')\n",
    "dx,dz_fr,dz_rear,dz,dphi,dphi_rc,dtheta,dz_wrc = dynamicsymbols('x,z_fr,z_r,z, varphi,varphi_RC, theta, z_wrc', 1)\n",
    "\n",
    "\n",
    "q=[x,phi,z,z_fr,z_rear,phi_rc]\n",
    "u=[dx,dphi,dz,dz_fr,dz_rear,dphi_rc]\n",
    "Y = q + u\n",
    "nDOF=len(q)\n",
    "\n",
    "\n",
    "x1=-0.1*R+R*sin(phi)\n",
    "y1=0.1*R+R*cos(phi)\n",
    "\n",
    "\n",
    "T1=1/2*m_3*(x1.diff(t)**2+y1.diff(t)**2)\n",
    "T1\n",
    "\n",
    "V1=-m_3*g*y1\n",
    "\n",
    "T1-V1\n",
    "\n",
    "dyn.LinearDynamicSystem(T1-V1,[phi]).linearized()._eoms"
   ]
  },
  {
   "cell_type": "code",
   "execution_count": 17,
   "metadata": {
    "collapsed": false
   },
   "outputs": [
    {
     "data": {
      "image/png": "[encoded data removed]",
      "text/latex": [
       "$\\displaystyle \\left[\\begin{matrix}\\frac{M R_{w} g \\operatorname{sin}\\left(\\theta\\right)}{2} - 0.5 M \\left(- 2 R^{2} \\operatorname{sin}\\left(\\theta\\right) \\operatorname{cos}\\left(\\theta\\right) \\dot{\\theta}^{2} + \\frac{R_{w}^{2} \\operatorname{sin}\\left(\\theta\\right) \\operatorname{cos}\\left(\\theta\\right) \\dot{\\theta}^{2}}{2}\\right) + 0.5 M \\left(- 4 R^{2} \\operatorname{sin}\\left(\\theta\\right) \\operatorname{cos}\\left(\\theta\\right) \\dot{\\theta}^{2} + 2 R^{2} \\operatorname{cos}^{2}\\left(\\theta\\right) \\ddot{\\theta} + \\frac{R_{w}^{2} \\operatorname{sin}^{2}\\left(\\theta\\right) \\ddot{\\theta}}{2} + R_{w}^{2} \\operatorname{sin}\\left(\\theta\\right) \\operatorname{cos}\\left(\\theta\\right) \\dot{\\theta}^{2}\\right)\\end{matrix}\\right]$"
      ],
      "text/plain": [
       "⎡                       ⎛                             2                2⎞     \n",
       "⎢M⋅R_w⋅g⋅sin(θ)         ⎜     2                2   R_w ⋅sin(θ)⋅cos(θ)⋅θ̇ ⎟    \n",
       "⎢────────────── - 0.5⋅M⋅⎜- 2⋅R ⋅sin(θ)⋅cos(θ)⋅θ̇  + ─────────────────────⎟ + 0\n",
       "⎣      2                ⎝                                    2          ⎠     \n",
       "\n",
       "    ⎛                                              2    2                     \n",
       "     ⎜     2                2      2    2        R_w ⋅sin (θ)⋅θ̈      2       \n",
       ".5⋅M⋅⎜- 4⋅R ⋅sin(θ)⋅cos(θ)⋅θ̇  + 2⋅R ⋅cos (θ)⋅θ̈ + ────────────── + R_w ⋅sin(θ\n",
       "    ⎝                                                 2                       \n",
       "\n",
       "        ⎞⎤\n",
       "         2⎟⎥\n",
       ")⋅cos(θ)⋅θ̇ ⎟⎥\n",
       "        ⎠⎦"
      ]
     },
     "execution_count": 17,
     "metadata": {
     },
     "output_type": "execute_result"
    }
   ],
   "source": [
    "\n",
    "\n",
    "x2=-0.1*R+R*sin(theta)\n",
    "y2=(r_w-r_w*cos(theta)) +( l_RC- (r_w-r_w*cos(theta)))/2\n",
    "\n",
    "\n",
    "T2=1/2*m_3*(x2.diff(t)**2+y2.diff(t)**2)\n",
    "T2\n",
    "\n",
    "V2=m_3*g*y2\n",
    "\n",
    "T2-V2\n",
    "\n",
    "dyn.LinearDynamicSystem(T2-V2,[theta]).linearized()._eoms\n",
    "dyn.LinearDynamicSystem(T2-V2,[theta])._eoms"
   ]
  },
  {
   "cell_type": "code",
   "execution_count": 0,
   "metadata": {
    "collapsed": false
   },
   "outputs": [
   ],
   "source": [
   ]
  }
 ],
 "metadata": {
  "kernelspec": {
   "display_name": "Python 3 (system-wide)",
   "language": "python",
   "metadata": {
    "cocalc": {
     "description": "Python 3 programming language",
     "priority": 100,
     "url": "https://www.python.org/"
    }
   },
   "name": "python3",
   "resource_dir": "/ext/jupyter/kernels/python3"
  },
  "language_info": {
   "codemirror_mode": {
    "name": "ipython",
    "version": 3
   },
   "file_extension": ".py",
   "mimetype": "text/x-python",
   "name": "python",
   "nbconvert_exporter": "python",
   "pygments_lexer": "ipython3",
   "version": "3.8.5"
  }
 },
 "nbformat": 4,
 "nbformat_minor": 4
}