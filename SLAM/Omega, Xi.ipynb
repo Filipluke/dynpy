{
 "cells": [
  {
   "cell_type": "code",
   "execution_count": 0,
   "metadata": {
    "collapsed": false
   },
   "outputs": [
   ],
   "source": [
    "import numpy as np\n",
    "\n",
    "# define omega and xi as in the example\n",
    "omega = np.array([[1,0,0],\n",
    "                  [-1,1,0],\n",
    "                  [0,-1,1]])\n",
    "\n",
    "xi = np.array([[-3],\n",
    "               [5],\n",
    "               [3]])\n",
    "\n",
    "# calculate the inverse of omega\n",
    "omega_inv = np.linalg.inv(np.matrix(omega))\n",
    "\n",
    "# calculate the solution, mu\n",
    "mu = omega_inv*xi\n",
    "\n",
    "# print out the values of mu (x0, x1, x2)\n",
    "print(mu)"
   ]
  }
 ],
 "metadata": {
  "kernelspec": {
   "display_name": "Python 3 (system-wide)",
   "language": "python",
   "metadata": {
    "cocalc": {
     "description": "Python 3 programming language",
     "priority": 100,
     "url": "https://www.python.org/"
    }
   },
   "name": "python3",
   "resource_dir": "/ext/jupyter/kernels/python3"
  }
 },
 "nbformat": 4,
 "nbformat_minor": 4
}