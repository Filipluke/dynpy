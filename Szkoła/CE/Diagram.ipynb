{
 "metadata": {
  "language_info": {
   "codemirror_mode": {
    "name": "ipython",
    "version": 3
   },
   "file_extension": ".py",
   "mimetype": "text/x-python",
   "name": "python",
   "nbconvert_exporter": "python",
   "pygments_lexer": "ipython3",
   "version": "3.8.3-final"
  },
  "orig_nbformat": 2,
  "kernelspec": {
   "name": "python3",
   "display_name": "Python 3",
   "language": "python"
  }
 },
 "nbformat": 4,
 "nbformat_minor": 2,
 "cells": [
  {
   "cell_type": "code",
   "execution_count": 5,
   "metadata": {},
   "outputs": [],
   "source": [
    "import Ploty as ploty \n",
    "import importlib\n",
    "importlib.reload(ploty)\n",
    "import numpy as np\n",
    "import matplotlib.pyplot as plt\n",
    "import pandas as pd "
   ]
  },
  {
   "cell_type": "code",
   "execution_count": 7,
   "metadata": {},
   "outputs": [
    {
     "output_type": "execute_result",
     "data": {
      "text/plain": [
       "     Unnamed: 0  kąt obrotu\\n wału korbowego\\n[deg]  \\\n",
       "0           NaN                              -360.1   \n",
       "1           NaN                              -359.1   \n",
       "2           NaN                              -358.1   \n",
       "3           NaN                              -357.1   \n",
       "4           NaN                              -356.1   \n",
       "..          ...                                 ...   \n",
       "715         NaN                               354.9   \n",
       "716         NaN                               355.9   \n",
       "717         NaN                               356.9   \n",
       "718         NaN                               357.9   \n",
       "719         NaN                               358.9   \n",
       "\n",
       "     ciśnienie\\nw cylindrze\\n(indykowane)\\n[bar]  \n",
       "0                                        2.07666  \n",
       "1                                        2.04008  \n",
       "2                                        2.00740  \n",
       "3                                        1.98018  \n",
       "4                                        1.95616  \n",
       "..                                           ...  \n",
       "715                                      2.18624  \n",
       "716                                      2.17886  \n",
       "717                                      2.16772  \n",
       "718                                      2.13962  \n",
       "719                                      2.10842  \n",
       "\n",
       "[720 rows x 3 columns]"
      ],
      "text/html": "<div>\n<style scoped>\n    .dataframe tbody tr th:only-of-type {\n        vertical-align: middle;\n    }\n\n    .dataframe tbody tr th {\n        vertical-align: top;\n    }\n\n    .dataframe thead th {\n        text-align: right;\n    }\n</style>\n<table border=\"1\" class=\"dataframe\">\n  <thead>\n    <tr style=\"text-align: right;\">\n      <th></th>\n      <th>Unnamed: 0</th>\n      <th>kąt obrotu\\n wału korbowego\\n[deg]</th>\n      <th>ciśnienie\\nw cylindrze\\n(indykowane)\\n[bar]</th>\n    </tr>\n  </thead>\n  <tbody>\n    <tr>\n      <th>0</th>\n      <td>NaN</td>\n      <td>-360.1</td>\n      <td>2.07666</td>\n    </tr>\n    <tr>\n      <th>1</th>\n      <td>NaN</td>\n      <td>-359.1</td>\n      <td>2.04008</td>\n    </tr>\n    <tr>\n      <th>2</th>\n      <td>NaN</td>\n      <td>-358.1</td>\n      <td>2.00740</td>\n    </tr>\n    <tr>\n      <th>3</th>\n      <td>NaN</td>\n      <td>-357.1</td>\n      <td>1.98018</td>\n    </tr>\n    <tr>\n      <th>4</th>\n      <td>NaN</td>\n      <td>-356.1</td>\n      <td>1.95616</td>\n    </tr>\n    <tr>\n      <th>...</th>\n      <td>...</td>\n      <td>...</td>\n      <td>...</td>\n    </tr>\n    <tr>\n      <th>715</th>\n      <td>NaN</td>\n      <td>354.9</td>\n      <td>2.18624</td>\n    </tr>\n    <tr>\n      <th>716</th>\n      <td>NaN</td>\n      <td>355.9</td>\n      <td>2.17886</td>\n    </tr>\n    <tr>\n      <th>717</th>\n      <td>NaN</td>\n      <td>356.9</td>\n      <td>2.16772</td>\n    </tr>\n    <tr>\n      <th>718</th>\n      <td>NaN</td>\n      <td>357.9</td>\n      <td>2.13962</td>\n    </tr>\n    <tr>\n      <th>719</th>\n      <td>NaN</td>\n      <td>358.9</td>\n      <td>2.10842</td>\n    </tr>\n  </tbody>\n</table>\n<p>720 rows × 3 columns</p>\n</div>"
     },
     "metadata": {},
     "execution_count": 7
    }
   ],
   "source": []
  },
  {
   "cell_type": "code",
   "execution_count": null,
   "metadata": {},
   "outputs": [],
   "source": []
  }
 ]
}