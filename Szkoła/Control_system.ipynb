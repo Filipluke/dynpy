{
 "metadata": {
  "language_info": {
   "codemirror_mode": {
    "name": "ipython",
    "version": 3
   },
   "file_extension": ".py",
   "mimetype": "text/x-python",
   "name": "python",
   "nbconvert_exporter": "python",
   "pygments_lexer": "ipython3",
   "version": "3.8.3-final"
  },
  "orig_nbformat": 2,
  "kernelspec": {
   "name": "python3",
   "display_name": "Python 3",
   "language": "python"
  }
 },
 "nbformat": 4,
 "nbformat_minor": 2,
 "cells": [
  {
   "cell_type": "code",
   "execution_count": 45,
   "metadata": {},
   "outputs": [],
   "source": [
    "import numpy as numpy\n",
    "import matplotlib.pyplot as plt \n",
    "from control import * \n",
    "import scipy.signal as sps\n",
    "from tbcontrol.symbolic import routh\n",
    "from sympy import *\n",
    "\n"
   ]
  },
  {
   "cell_type": "code",
   "execution_count": 46,
   "metadata": {},
   "outputs": [
    {
     "output_type": "display_data",
     "data": {
      "text/plain": "'Routh Matix'"
     },
     "metadata": {}
    },
    {
     "output_type": "execute_result",
     "data": {
      "text/plain": [
       "⎡ 1    26⎤\n",
       "⎢        ⎥\n",
       "⎢ 9    24⎥\n",
       "⎢        ⎥\n",
       "⎢70/3  0 ⎥\n",
       "⎢        ⎥\n",
       "⎣ 24   0 ⎦"
      ],
      "text/latex": "$\\displaystyle \\left[\\begin{matrix}1 & 26\\\\9 & 24\\\\\\frac{70}{3} & 0\\\\24 & 0\\end{matrix}\\right]$"
     },
     "metadata": {},
     "execution_count": 46
    }
   ],
   "source": [
    "# --------------------------------------------\n",
    "display('Routh Matix')\n",
    "s = Symbol('s')\n",
    "num = s**3 + 6*s**2 + 11*s + 6\n",
    "den = s**3 + 9*s**2 + 26*s + 24\n",
    "sys = num/den\n",
    "\n",
    "\n",
    "routh(Poly(den, s))"
   ]
  },
  {
   "cell_type": "code",
   "execution_count": 47,
   "metadata": {},
   "outputs": [
    {
     "output_type": "display_data",
     "data": {
      "text/plain": "            ωₙ    \n1.67 = ───────────\n          ________\n         ╱      2 \n       ╲╱  1 - ζ  ",
      "image/png": "[encoded data removed]",
      "text/latex": "$\\displaystyle 1.67 = \\frac{\\omega_{n}}{\\sqrt{1 - \\zeta^{2}}}$"
     },
     "metadata": {}
    },
    {
     "output_type": "display_data",
     "data": {
      "text/plain": "-0.8 = ωₙ⋅ζ",
      "image/png": "[encoded data removed]",
      "text/latex": "$\\displaystyle -0.8 = \\omega_{n} \\zeta$"
     },
     "metadata": {}
    },
    {
     "output_type": "display_data",
     "data": {
      "text/plain": "0.6 = ω_d",
      "image/png": "[encoded data removed]",
      "text/latex": "$\\displaystyle 0.6 = \\omega_{d}$"
     },
     "metadata": {}
    }
   ],
   "source": [
    "A,omega_n,omega_d, zeta = symbols('A, omega_n, omega_d, zeta')\n",
    "\n",
    "\n",
    "a = 1.67\n",
    "b = -0.8\n",
    "c = 0.6\n",
    "\n",
    "\n",
    "eq1 =  Eq( a, omega_n/sqrt(1 - zeta**2) )\n",
    "eq2 = Eq(b, zeta*omega_n)\n",
    "eq3 = Eq(c, omega_d)\n",
    "\n",
    "\n",
    "\n",
    "display(eq1)\n",
    "display(eq2)\n",
    "display(eq3)\n",
    "\n",
    "\n",
    "\n",
    "omega_n = solve(eq1, omega_n)\n",
    "\n"
   ]
  },
  {
   "source": [
    "num = [1, 6, 11, 6]\n",
    "den = [1, 13, 56, 80]\n",
    "\n",
    "sys = tf(num,den)\n",
    "display(sys)\n",
    "\n",
    "\n",
    "\n",
    "#p = pole(sys)\n",
    "#z = zero(sys)\n",
    "\n",
    "\n",
    "#print(z)\n",
    "#print(p)\n",
    "\n",
    "\n",
    "\n",
    "#display('H(s) = C*(s*I - A)^(-1)B + D')\n",
    "#--------------------\n",
    "\n",
    "r,p,k = sps.residue(num,den) \n",
    "print(r)  \n",
    "print(ss(sys))\n",
    "#t,y = step_response(sys)\n",
    "\n",
    "\n",
    "\n",
    "\n",
    "#plt.plot(t,y)\n",
    "#factor(sys,s)\n",
    " "
   ],
   "cell_type": "code",
   "metadata": {
    "tags": []
   },
   "execution_count": 54,
   "outputs": [
    {
     "output_type": "display_data",
     "data": {
      "text/plain": "TransferFunction(array([ 1,  6, 11,  6]), array([ 1, 13, 56, 80]))",
      "text/latex": "$$\\frac{s^3 + 6 s^2 + 11 s + 6}{s^3 + 13 s^2 + 56 s + 80}$$"
     },
     "metadata": {}
    },
    {
     "output_type": "stream",
     "name": "stdout",
     "text": [
      "[ 17.+0.j  -6.+0.j -24.+0.j]\nA = [[-13. -56. -80.]\n     [  1.   0.   0.]\n     [  0.   1.   0.]]\n\nB = [[1.]\n     [0.]\n     [0.]]\n\nC = [[ -7. -45. -74.]]\n\nD = [[1.]]\n\n"
     ]
    }
   ]
  },
  {
   "cell_type": "code",
   "execution_count": null,
   "metadata": {},
   "outputs": [],
   "source": []
  }
 ]
}