{
 "metadata": {
  "language_info": {
   "codemirror_mode": {
    "name": "ipython",
    "version": 3
   },
   "file_extension": ".py",
   "mimetype": "text/x-python",
   "name": "python",
   "nbconvert_exporter": "python",
   "pygments_lexer": "ipython3",
   "version": "3.8.3-final"
  },
  "orig_nbformat": 2,
  "kernelspec": {
   "name": "python3",
   "display_name": "Python 3",
   "language": "python"
  }
 },
 "nbformat": 4,
 "nbformat_minor": 2,
 "cells": [
  {
   "cell_type": "code",
   "execution_count": 1,
   "metadata": {},
   "outputs": [],
   "source": [
    "from tbcontrol.symbolic import routh\n",
    "from sympy import *\n",
    "from sympy.physics.vector import dynamicsymbols\n",
    "from sympy.physics.mechanics import *\n",
    "import numpy as np"
   ]
  },
  {
   "cell_type": "code",
   "execution_count": 2,
   "metadata": {},
   "outputs": [],
   "source": [
    "s, w_n, w_d, k, m, zeta,A = symbols('s, omega_n, omega_d, k, m, zeta,A')\n",
    "Tp,Tr,Ts,pi,phi,tau,Mp,PO = symbols('T_p, T_r, T_s, pi, phi, tau, M_p, PO')\n"
   ]
  },
  {
   "source": [
    "# Plane S"
   ],
   "cell_type": "markdown",
   "metadata": {}
  },
  {
   "source": [
    "peak_time = Eq(Tp, pi/w_d)\n",
    "rise_time = Eq(Tr, (pi - phi)/w_d)\n",
    "time = Eq(tau, 1/(zeta*w_n))\n",
    "settling_time = Eq(Ts, 4/(zeta*w_n))\n",
    "peak_magnitude = Eq(Mp, 1 + exp((-np.pi*zeta)/sqrt(1 - zeta**2)))\n",
    "percentage_overshoot = Eq(PO, exp((-pi*zeta)/sqrt(1 - zeta**2)))\n",
    "# --------------------------------------------------------------------------\n",
    "percentage_overshoot = percentage_overshoot.subs(PO, 0.1)\n",
    "display(solve(percentage_overshoot, zeta))\n",
    "\n",
    "settling_time = settling_time.subs(Ts, 0.8)\n",
    "display(settling_time)\n"
   ],
   "cell_type": "code",
   "metadata": {},
   "execution_count": 3,
   "outputs": [
    {
     "output_type": "display_data",
     "data": {
      "text/plain": "[1.0/(pi*sqrt(0.188611697011614 + pi**(-2)))]"
     },
     "metadata": {}
    },
    {
     "output_type": "display_data",
     "data": {
      "text/plain": "Eq(0.8, 4/(omega_n*zeta))",
      "text/latex": "$\\displaystyle 0.8 = \\frac{4}{\\omega_{n} \\zeta}$"
     },
     "metadata": {}
    }
   ]
  },
  {
   "source": [
    "# Second order"
   ],
   "cell_type": "markdown",
   "metadata": {}
  },
  {
   "cell_type": "code",
   "execution_count": 4,
   "metadata": {},
   "outputs": [
    {
     "output_type": "display_data",
     "data": {
      "text/plain": "Eq(1.67, omega_n/sqrt(1 - zeta**2))",
      "text/latex": "$\\displaystyle 1.67 = \\frac{\\omega_{n}}{\\sqrt{1 - \\zeta^{2}}}$"
     },
     "metadata": {}
    },
    {
     "output_type": "display_data",
     "data": {
      "text/plain": "Eq(-0.8, -omega_n*zeta)",
      "text/latex": "$\\displaystyle -0.8 = - \\omega_{n} \\zeta$"
     },
     "metadata": {}
    },
    {
     "output_type": "display_data",
     "data": {
      "text/plain": "Eq(0.6, omega_d)",
      "text/latex": "$\\displaystyle 0.6 = \\omega_{d}$"
     },
     "metadata": {}
    }
   ],
   "source": [
    "eq1 = Eq(1.67, w_n/(sqrt(1 - zeta**2)))\n",
    "\n",
    "eq2 = Eq(-0.8, -zeta*w_n)\n",
    "\n",
    "eq3 = Eq(0.6, w_d)\n",
    "\n",
    "display(eq1)\n",
    "display(eq2)\n",
    "display(eq3)\n",
    "\n"
   ]
  }
 ]
}