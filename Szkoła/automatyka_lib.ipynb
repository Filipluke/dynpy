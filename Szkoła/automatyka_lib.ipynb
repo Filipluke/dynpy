{
 "metadata": {
  "language_info": {
   "codemirror_mode": {
    "name": "ipython",
    "version": 3
   },
   "file_extension": ".py",
   "mimetype": "text/x-python",
   "name": "python",
   "nbconvert_exporter": "python",
   "pygments_lexer": "ipython3",
   "version": "3.8.3-final"
  },
  "orig_nbformat": 2,
  "kernelspec": {
   "name": "python3",
   "display_name": "Python 3",
   "language": "python"
  }
 },
 "nbformat": 4,
 "nbformat_minor": 2,
 "cells": [
  {
   "cell_type": "code",
   "execution_count": 3,
   "metadata": {},
   "outputs": [],
   "source": [
    "from lcapy import *\n",
    "import scipy.signal as sps\n",
    "from sympy import *\n",
    "from sympy.physics.vector import dynamicsymbols\n",
    "from sympy.physics.mechanics import *\n",
    "import sympy as sym\n",
    "from numpy import *\n",
    "\n",
    "u,t = symbols('u,t')"
   ]
  },
  {
   "cell_type": "code",
   "execution_count": 4,
   "metadata": {},
   "outputs": [
    {
     "output_type": "display_data",
     "data": {
      "text/plain": "  3      2            \n s  + 6⋅s  + 11⋅s + 6 \n──────────────────────\n 3       2            \ns  + 13⋅s  + 56⋅s + 80",
      "text/latex": "$$\\frac{s^{3} + 6 s^{2} + 11 s + 6}{s^{3} + 13 s^{2} + 56 s + 80}$$"
     },
     "metadata": {}
    },
    {
     "output_type": "display_data",
     "data": {
      "text/plain": "(s + 1)⋅(s + 2)⋅(s + 3)\n───────────────────────\n           2           \n    (s + 4) ⋅(s + 5)   ",
      "text/latex": "$$\\frac{\\left(s + 1\\right) \\left(s + 2\\right) \\left(s + 3\\right)}{\\left(s + 4\\right)^{2} \\left(s + 5\\right)}$$"
     },
     "metadata": {}
    },
    {
     "output_type": "display_data",
     "data": {
      "text/plain": "{-1: 1, -2: 1, -3: 1}",
      "text/latex": "$$\\left\\{ -1 : 1, \\  -2 : 1, \\  -3 : 1\\right\\}$$"
     },
     "metadata": {}
    },
    {
     "output_type": "display_data",
     "data": {
      "text/plain": "{-4: 2, -5: 1}",
      "text/latex": "$$\\left\\{ -4 : 2, \\  -5 : 1\\right\\}$$"
     },
     "metadata": {}
    },
    {
     "output_type": "display_data",
     "data": {
      "text/plain": "u - 2⋅x[3]",
      "image/png": "[encoded data removed]",
      "text/latex": "$\\displaystyle u - 2 {x}_{3}$"
     },
     "metadata": {}
    },
    {
     "output_type": "display_data",
     "data": {
      "text/plain": "u - 3⋅x[2] - x[3]",
      "image/png": "[encoded data removed]",
      "text/latex": "$\\displaystyle u - 3 {x}_{2} - {x}_{3}$"
     },
     "metadata": {}
    },
    {
     "output_type": "display_data",
     "data": {
      "text/plain": "u - 4⋅x[1] - 2⋅x[2] - x[3]",
      "image/png": "[encoded data removed]",
      "text/latex": "$\\displaystyle u - 4 {x}_{1} - 2 {x}_{2} - {x}_{3}$"
     },
     "metadata": {}
    },
    {
     "output_type": "display_data",
     "data": {
      "text/plain": "u + x[1] - 2⋅x[2] - x[3]",
      "image/png": "[encoded data removed]",
      "text/latex": "$\\displaystyle u + {x}_{1} - 2 {x}_{2} - {x}_{3}$"
     },
     "metadata": {}
    },
    {
     "output_type": "execute_result",
     "data": {
      "text/plain": [
       "''"
      ]
     },
     "metadata": {},
     "execution_count": 4
    }
   ],
   "source": [
    "num = s**3 + 6*s**2 + 11*s + 6\n",
    "den = s**3 + 13*s**2 + 56*s + 80\n",
    "sys = num/den\n",
    "\n",
    "display(sys)\n",
    "display( sys.ZPK() )\n",
    "\n",
    "p =  sys.poles()\n",
    "z = sys.zeros()\n",
    "\n",
    "display(z)\n",
    "display(p)\n",
    "\n",
    "\n",
    "N= len(z)\n",
    "xs = IndexedBase('x')\n",
    "x = [xs[i+1] for i in range(N)]\n",
    "\n",
    "z = [-1, -1, -5]\n",
    "p = [-2, -3, -4]\n",
    "\n",
    "xprevious_dot = u + p[0]*x[-1] \n",
    "display(xprevious_dot)\n",
    "for i in range(N-1):\n",
    "\n",
    "    x_dot = xprevious_dot + p[i+1]*x[-2-i] - z[i]*x[-1-i] \n",
    "\n",
    "    xprevious_dot = x_dot\n",
    "    display(x_dot)\n",
    "\n",
    "y = x_dot - z[-1]*x[0]\n",
    "display(y)\n",
    "\n",
    "\n",
    "#for i in range(N-1):\n",
    "    #display( p[i+1]*x[-2-i] )\n",
    "    #display( -z[i]*x[-1-i])\n",
    "\n",
    ";"
   ]
  }
 ]
}