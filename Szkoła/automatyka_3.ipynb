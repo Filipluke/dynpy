{
 "metadata": {
  "language_info": {
   "codemirror_mode": {
    "name": "ipython",
    "version": 3
   },
   "file_extension": ".py",
   "mimetype": "text/x-python",
   "name": "python",
   "nbconvert_exporter": "python",
   "pygments_lexer": "ipython3",
   "version": "3.8.3-final"
  },
  "orig_nbformat": 2,
  "kernelspec": {
   "name": "python3",
   "display_name": "Python 3",
   "language": "python"
  }
 },
 "nbformat": 4,
 "nbformat_minor": 2,
 "cells": [
  {
   "cell_type": "code",
   "execution_count": 26,
   "metadata": {},
   "outputs": [],
   "source": [
    "from lcapy import *\n",
    "import scipy.signal as sps\n",
    "from sympy import *\n",
    "from sympy.physics.vector import dynamicsymbols\n",
    "from sympy.physics.mechanics import *\n",
    "from numpy import *\n",
    "\n",
    "u,t = symbols('u,t')"
   ]
  },
  {
   "cell_type": "code",
   "execution_count": 27,
   "metadata": {},
   "outputs": [],
   "source": [
    "u,t = symbols('u,t')\n",
    "y_ss,e_ss,Gc,Gp = symbols('y_ss,e_ss,G_c, G_p')\n",
    "\n",
    "\n",
    "eq1 = Eq(e_ss, 1/(1+Gc*Gp)*u)\n",
    "eq2 = Eq(y_ss, Gc*Gp/(1+Gc*Gp)*u)\n",
    "\n"
   ]
  },
  {
   "cell_type": "code",
   "execution_count": 32,
   "metadata": {},
   "outputs": [
    {
     "output_type": "execute_result",
     "data": {
      "text/plain": [
       "⎡ 1    3   5⎤\n",
       "⎢           ⎥\n",
       "⎢ 4   12   0⎥\n",
       "⎢           ⎥\n",
       "⎢ 0    5   0⎥\n",
       "⎢           ⎥\n",
       "⎢zoo  nan  0⎥\n",
       "⎢           ⎥\n",
       "⎣nan   0   0⎦"
      ],
      "text/latex": "$\\displaystyle \\left[\\begin{matrix}1 & 3 & 5\\\\4 & 12 & 0\\\\0 & 5 & 0\\\\\\tilde{\\infty} & \\text{NaN} & 0\\\\\\text{NaN} & 0 & 0\\end{matrix}\\right]$"
     },
     "metadata": {},
     "execution_count": 32
    }
   ],
   "source": [
    "from tbcontrol.symbolic import routh\n",
    "s = Symbol('s')\n",
    "p = s**4 + 4*s**3 + 3*s**2 + 12*s + 5 \n",
    "\n",
    "p = Poly(p, s)\n",
    "\n",
    "routh(p)"
   ]
  }
 ]
}