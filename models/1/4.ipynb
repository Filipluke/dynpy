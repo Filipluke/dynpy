{
 "cells": [
  {
   "cell_type": "code",
   "execution_count": 4,
   "metadata": {
    "collapsed": false,
    "scrolled": true
   },
   "outputs": [
    {
     "ename": "ImportError",
     "evalue": "attempted relative import with no known parent package",
     "output_type": "error",
     "traceback": [
      "\u001b[0;31m---------------------------------------------------------------------------\u001b[0m",
      "\u001b[0;31mImportError\u001b[0m                               Traceback (most recent call last)",
      "\u001b[0;32m/tmp/ipykernel_11709/1702882915.py\u001b[0m in \u001b[0;36m<module>\u001b[0;34m\u001b[0m\n\u001b[1;32m      5\u001b[0m \u001b[0;32mfrom\u001b[0m \u001b[0msympy\u001b[0m\u001b[0;34m.\u001b[0m\u001b[0mphysics\u001b[0m\u001b[0;34m.\u001b[0m\u001b[0mmechanics\u001b[0m \u001b[0;32mimport\u001b[0m \u001b[0mdynamicsymbols\u001b[0m\u001b[0;34m,\u001b[0m \u001b[0mReferenceFrame\u001b[0m\u001b[0;34m,\u001b[0m \u001b[0mPoint\u001b[0m\u001b[0;34m\u001b[0m\u001b[0;34m\u001b[0m\u001b[0m\n\u001b[1;32m      6\u001b[0m \u001b[0;32mfrom\u001b[0m \u001b[0msympy\u001b[0m\u001b[0;34m.\u001b[0m\u001b[0mphysics\u001b[0m\u001b[0;34m.\u001b[0m\u001b[0mvector\u001b[0m \u001b[0;32mimport\u001b[0m \u001b[0mvpprint\u001b[0m\u001b[0;34m,\u001b[0m \u001b[0mvlatex\u001b[0m\u001b[0;34m\u001b[0m\u001b[0;34m\u001b[0m\u001b[0m\n\u001b[0;32m----> 7\u001b[0;31m \u001b[0;32mfrom\u001b[0m \u001b[0;34m.\u001b[0m\u001b[0;34m.\u001b[0m\u001b[0mdynamics\u001b[0m \u001b[0;32mimport\u001b[0m \u001b[0mLagrangesDynamicSystem\u001b[0m\u001b[0;34m,\u001b[0m \u001b[0mHarmonicOscillator\u001b[0m\u001b[0;34m\u001b[0m\u001b[0;34m\u001b[0m\u001b[0m\n\u001b[0m\u001b[1;32m      8\u001b[0m \u001b[0;34m\u001b[0m\u001b[0m\n\u001b[1;32m      9\u001b[0m \u001b[0;32mfrom\u001b[0m \u001b[0;34m.\u001b[0m\u001b[0melements\u001b[0m \u001b[0;32mimport\u001b[0m \u001b[0mMaterialPoint\u001b[0m\u001b[0;34m,\u001b[0m \u001b[0mSpring\u001b[0m\u001b[0;34m,\u001b[0m \u001b[0mGravitationalForce\u001b[0m\u001b[0;34m,\u001b[0m \u001b[0mDisk\u001b[0m\u001b[0;34m,\u001b[0m \u001b[0mRigidBody2D\u001b[0m\u001b[0;34m,\u001b[0m \u001b[0mDamper\u001b[0m\u001b[0;34m,\u001b[0m \u001b[0mPID\u001b[0m\u001b[0;34m,\u001b[0m \u001b[0mExcitation\u001b[0m\u001b[0;34m,\u001b[0m \u001b[0mForce\u001b[0m\u001b[0;34m,\u001b[0m \u001b[0mbase_frame\u001b[0m\u001b[0;34m,\u001b[0m\u001b[0mbase_origin\u001b[0m\u001b[0;34m\u001b[0m\u001b[0;34m\u001b[0m\u001b[0m\n",
      "\u001b[0;31mImportError\u001b[0m: attempted relative import with no known parent package"
     ]
    }
   ],
   "source": [
    "from sympy import (Symbol, symbols, Matrix, sin, cos, asin, diff, sqrt, S, diag, Eq,\n",
    "                   hessian, Function, flatten, Tuple, im, pi, latex, dsolve,\n",
    "                   solve, fraction, factorial,Subs, Number, oo, Abs)\n",
    "\n",
    "from sympy.physics.mechanics import dynamicsymbols, ReferenceFrame, Point\n",
    "from sympy.physics.vector import vpprint, vlatex\n",
    "from ..dynamics import LagrangesDynamicSystem, HarmonicOscillator\n",
    "\n",
    "from .elements import MaterialPoint, Spring, GravitationalForce, Disk, RigidBody2D, Damper, PID, Excitation, Force, base_frame,base_origin\n",
    "from ..continuous import ContinuousSystem, PlaneStressProblem\n",
    "\n",
    "import base64\n",
    "import random\n",
    "import IPython as IP\n",
    "import numpy as np\n"
   ]
  },
  {
   "cell_type": "code",
   "execution_count": 6,
   "metadata": {
    "collapsed": false
   },
   "outputs": [
   ],
   "source": [
    "def __init__(self,\n",
    "                 m=Symbol('m', positive=True),\n",
    "                 I=Symbol('I', positive=True),\n",
    "                 l_rod=Symbol('l_rod', positive=True),\n",
    "                 l_l=Symbol('l_l', positive=True),\n",
    "                 l_r=Symbol('l_r', positive=True),\n",
    "                 k_2=Symbol('k_2', positive=True),\n",
    "                 k_1=Symbol('k_1', positive=True),\n",
    "                 F_engine=Symbol('F_{engine}', positive=True),\n",
    "                 ivar=Symbol('t', positive=True),\n",
    "                 qs=dynamicsymbols('z, \\\\varphi'),\n",
    "                 **kwargs):\n",
    "\n",
    "        z, phi = qs\n",
    "\n",
    "        self.m = m  # mass of a rod\n",
    "        self.l_l = l_l  # offset of left spring\n",
    "        self.l_r = l_r  # offset of right spring\n",
    "        self.l_rod = l_rod  # length of a rod\n",
    "        self.k_2 = k_2  # left spring\n",
    "        self.k_1 = k_1  # right spring\n",
    "        self.I = I  # moment of inertia of a rod\n",
    "        self.F_engine = F_engine\n",
    "\n",
    "        self.body = RigidBody2D(m, (m / 12) * (2 * l_rod)**2,\n",
    "                                pos_lin=z,\n",
    "                                pos_rot=phi,\n",
    "                                qs=qs)\n",
    "        self.spring_1 = Spring(k_1, pos1=z + phi * l_l, qs=qs)  # left spring\n",
    "        self.spring_2 = Spring(k_2, pos1=z - phi * l_r, qs=qs)  # right spring\n",
    "        self.force = Force(F_engine, pos1=z - phi * l_r, qs=qs)\n",
    "        system = self.body + self.spring_1 + self.spring_2 + self.force\n",
    "\n",
    "        super().__init__(system,**kwargs)\n"
   ]
  },
  {
   "cell_type": "code",
   "execution_count": 0,
   "metadata": {
    "collapsed": false
   },
   "outputs": [
   ],
   "source": [
   ]
  }
 ],
 "metadata": {
  "kernelspec": {
   "display_name": "Python 3 (system-wide)",
   "language": "python",
   "metadata": {
    "cocalc": {
     "description": "Python 3 programming language",
     "priority": 100,
     "url": "https://www.python.org/"
    }
   },
   "name": "python3",
   "resource_dir": "/ext/jupyter/kernels/python3"
  },
  "language_info": {
   "codemirror_mode": {
    "name": "ipython",
    "version": 3
   },
   "file_extension": ".py",
   "mimetype": "text/x-python",
   "name": "python",
   "nbconvert_exporter": "python",
   "pygments_lexer": "ipython3",
   "version": "3.8.10"
  }
 },
 "nbformat": 4,
 "nbformat_minor": 4
}