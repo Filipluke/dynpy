{
 "cells": [
  {
   "cell_type": "code",
   "execution_count": 4,
   "metadata": {},
   "outputs": [],
   "source": [
    "from sympy import *\n",
    "import sympy.physics.mechanics as me\n",
    "from sympy.utilities.lambdify import lambdify\n",
    "from sympy.solvers.ode import *\n",
    "from scipy import integrate\n",
    "import numpy as np\n",
    "import matplotlib.pyplot as plt\n",
    "\n",
    "me.init_vprinting(use_latex='mathjax')"
   ]
  },
  {
   "cell_type": "code",
   "execution_count": 5,
   "metadata": {},
   "outputs": [],
   "source": [
    "t,g,l1,l2,m1,m2 = symbols('t,g,l_1,l_2,m_1,m_2')\n",
    "theta1,theta2 = me.dynamicsymbols('theta_1 , theta_2 ')\n",
    "omega1,omega2 = me.dynamicsymbols('theta1 , theta2' , level = 1)\n",
    "l1 = 100\n",
    "l2 = 100\n",
    "m1 = 5\n",
    "m2=10\n",
    "g = 9.81\n",
    "\n",
    "time = (0,80)\n",
    "t_eval = np.linspace(time[0], time[1],1000)"
   ]
  },
  {
   "cell_type": "code",
   "execution_count": 3,
   "metadata": {},
   "outputs": [
    {
     "data": {
      "text/plain": [
       "None"
      ]
     },
     "metadata": {},
     "output_type": "display_data"
    },
    {
     "name": "stderr",
     "output_type": "stream",
     "text": [
      "<ipython-input-3-c31d7109a884>:92: DeprecationWarning: an integer is required (got type float).  Implicit conversion to integers using __int__ is deprecated, and may be removed in a future version of Python.\n",
      "  pygame.draw.line(self.screen, (120,120,120) , (self.width/2,self.height/2) , (self.x1 , self.y1) , 2)\n",
      "<ipython-input-3-c31d7109a884>:92: DeprecationWarning: an integer is required (got type Float).  Implicit conversion to integers using __int__ is deprecated, and may be removed in a future version of Python.\n",
      "  pygame.draw.line(self.screen, (120,120,120) , (self.width/2,self.height/2) , (self.x1 , self.y1) , 2)\n",
      "<ipython-input-3-c31d7109a884>:93: DeprecationWarning: an integer is required (got type Float).  Implicit conversion to integers using __int__ is deprecated, and may be removed in a future version of Python.\n",
      "  pygame.draw.line(self.screen, (120,120,120) ,(self.x1 , self.y1) , (self.x2 , self.y2) , 2)\n"
     ]
    },
    {
     "data": {
      "text/plain": [
       "None"
      ]
     },
     "metadata": {},
     "output_type": "display_data"
    }
   ],
   "source": [
    "class DoublePendulum: \n",
    "    def __init__(self, theta1 , theta2):\n",
    "        \n",
    "        self.theta1 = theta1\n",
    "        self.theta2 = theta2\n",
    "        self.omega1 = self.theta1.diff(t) \n",
    "        self.omega2 = self.theta2.diff(t)\n",
    "        self.theta1_0 = 0\n",
    "        self.theta2_0 = pi/4\n",
    "        self.omega1_0 = 0\n",
    "        self.omega2_0 = 0\n",
    "        \n",
    "        self.l1 = l1\n",
    "        self.l2 = l2\n",
    "        self.m1 = m1\n",
    "        self.m2 = m2 \n",
    "        self.g = g\n",
    "        self.t = t\n",
    "        self.time = time \n",
    "        self.t_eval = t_eval\n",
    "\n",
    "        self.h1 = self.l1*cos(self.theta1)\n",
    "        self.h2 =  self.h1 + self.l2*cos(self.theta2)\n",
    "        \n",
    "        self.size = self.width , self.height = 1280 , 720\n",
    "            \n",
    "    def model(self):        \n",
    "        self.N = me.ReferenceFrame('N')\n",
    "        self.A = me.ReferenceFrame('A')\n",
    "        self.B = me.ReferenceFrame('B')\n",
    "        self.No = me.Point('No')\n",
    "        self.A.orient(self.N , 'axis' , (self.theta1, self.N.z))\n",
    "        self.B.orient(self.A , 'axis' , (self.theta2 , self.A.z))\n",
    "        self.P1 = me.Point('P1')\n",
    "        self.P2 = me.Point('P2')\n",
    "        self.P1.set_pos(self.No , self.l1*self.A.x)\n",
    "        self.P2.set_pos(self.P1 , self.l2*self.B.x)\n",
    "        self.v1 = self.P1.set_vel(self.N , self.theta1.diff(t)*self.l1*self.A.x)\n",
    "        self.v2 = self.P2.set_vel(self.N , (self.theta1.diff(t)*self.l1 + self.theta2.diff(t)*self.l2)*self.B.x)\n",
    "        self.pP1 = me.Particle('pP1' , self.P1 , self.m1)\n",
    "        self.pP2 = me.Particle('pP2' , self.P2 , self.m2)\n",
    "        self.pP1.potential_energy= -self.m1*self.g*self.h1\n",
    "        self.pP2.potential_energy= -self.m2*self.g*self.h2\n",
    "        \n",
    "        self.L = me.Lagrangian(self.N , self.pP1 , self.pP2)     \n",
    "        self.LM = me.LagrangesMethod(self.L , [self.theta1,self.theta2] , frame = self.N)\n",
    "        self.EOM = self.LM.form_lagranges_equations()\n",
    "                    \n",
    "    def space_state(self):\n",
    "        \n",
    "        self.Space_state = self.LM.rhs().subs({sin(self.theta1):self.theta1 , sin(self.theta2):self.theta2})\n",
    "        return self.Space_state\n",
    "    \n",
    "    def solution(self):\n",
    "        \n",
    "        self.model()\n",
    "        self.space_state()\n",
    "        \n",
    "        z = ( self.theta1, self.theta2, self.omega1, self.omega2 ) \n",
    "        self.lam_f = ( lambdify((self.t,z), list(self.Space_state), 'numpy') )\n",
    "        \n",
    "        self.sol = integrate.solve_ivp(self.lam_f, t_span = self.time, y0=(self.theta1_0, self.theta2_0, self.omega1_0, self.omega2_0)\n",
    "                                       ,t_eval = self.t_eval, dense_output= True) \n",
    "        \n",
    "        self.solution = self.sol.y\n",
    "        \n",
    "        self.omega1 = self.solution[2]\n",
    "        self.omega2 = self.solution[3]\n",
    "        self.theta1 = self.solution[0]\n",
    "        self.theta2 = self.solution[1]\n",
    "      \n",
    "           \n",
    "    def coordinates(self):\n",
    "        \n",
    "        self.screen = pygame.display.set_mode(self.size) \n",
    "        self.clock = pygame.time.Clock()\n",
    "        \n",
    "        for i in range(0,len(self.theta1)): \n",
    "            \n",
    "            self.screen.fill((25,25,25))\n",
    "            self.x1 =  self.width/2 + self.l1*sin(self.theta1[i]) \n",
    "            self.y1 =  self.height/2 + self.l1*cos(self.theta1[i])\n",
    "            self.x2 =  self.x1 + self.l2*sin(self.theta2[i])\n",
    "            self.y2 =  self.y1 + self.l2*cos(self.theta2[i])\n",
    "            \n",
    "                        \n",
    "            #self.theta1 += self.omega1\n",
    "            #self.theta1 += self.omega2\n",
    "            \n",
    "            pygame.draw.circle(self.screen , (0,0,255) , (int(self.width/2),int(self.height/2)) , 2 , 2)\n",
    "    \n",
    "            pygame.draw.line(self.screen, (120,120,120) , (self.width/2,self.height/2) , (self.x1 , self.y1) , 2)\n",
    "            pygame.draw.line(self.screen, (120,120,120) ,(self.x1 , self.y1) , (self.x2 , self.y2) , 2)\n",
    "    \n",
    "            pygame.draw.circle(self.screen , (255 ,0, 0) , ( int(self.x1) , int(self.y1)), self.m1*2, self.m1*2)\n",
    "            pygame.draw.circle(self.screen , (0 ,255, 0) , ( int(self.x2) , int(self.y2)), self.m2*2, self.m2*2)\n",
    "    \n",
    "    \n",
    "            pygame.display.flip()\n",
    "            self.clock.tick(50)\n",
    "\n",
    "        running = True\n",
    "        try:\n",
    "             while running:\n",
    "                for event in pygame.event.get():\n",
    "                    if event.type == pygame.QUIT:\n",
    "                             running = False\n",
    "                             pygame.quit()\n",
    "        except SystemExit:\n",
    "            pygame.quit()  \n",
    "            \n",
    "            \n",
    "            \n",
    "               \n",
    "double_pendulum = DoublePendulum(theta1 , theta2) \n",
    "display(double_pendulum.solution())    \n",
    "display(double_pendulum.coordinates())"
   ]
  }
 ],
 "metadata": {
  "kernelspec": {
   "display_name": "Python 3",
   "language": "python",
   "name": "python3"
  },
  "language_info": {
   "codemirror_mode": {
    "name": "ipython",
    "version": 3
   },
   "file_extension": ".py",
   "mimetype": "text/x-python",
   "name": "python",
   "nbconvert_exporter": "python",
   "pygments_lexer": "ipython3",
   "version": "3.8.3"
  }
 },
 "nbformat": 4,
 "nbformat_minor": 4
}
