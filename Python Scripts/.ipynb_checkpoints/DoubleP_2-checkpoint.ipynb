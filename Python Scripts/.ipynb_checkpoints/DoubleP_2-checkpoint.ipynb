{
 "cells": [
  {
   "cell_type": "code",
   "execution_count": 10,
   "metadata": {},
   "outputs": [],
   "source": [
    "from sympy import *\n",
    "import sympy.physics.mechanics as me\n",
    "from sympy.utilities.lambdify import lambdify\n",
    "from sympy.solvers.ode import *\n",
    "from scipy import integrate\n",
    "import numpy as np\n",
    "import matplotlib.pyplot as plt\n",
    "from celluloid import Camera\n",
    "from IPython.display import HTML\n",
    "\n",
    "me.init_vprinting(use_latex='mathjax')\n",
    "%matplotlib inline "
   ]
  },
  {
   "cell_type": "code",
   "execution_count": 11,
   "metadata": {},
   "outputs": [],
   "source": [
    "t,g,l1,l2,m1,m2 = symbols('t,g,l_1,l_2,m_1,m_2')\n",
    "theta1,theta2 = me.dynamicsymbols('theta_1 , theta_2 ')\n",
    "omega1,omega2 = me.dynamicsymbols('theta1 , theta2' , level = 1)\n",
    "l1 = 100\n",
    "l2 = 100\n",
    "m1 = 5\n",
    "m2=10\n",
    "g = 9.81\n",
    "\n",
    "time = (0,80)\n",
    "t_eval = np.linspace(time[0], time[1],1000)"
   ]
  },
  {
   "cell_type": "code",
   "execution_count": 12,
   "metadata": {},
   "outputs": [
    {
     "data": {
      "text/plain": [
       "None"
      ]
     },
     "metadata": {},
     "output_type": "display_data"
    },
    {
     "ename": "RuntimeError",
     "evalue": "Requested MovieWriter (ffmpeg) not available",
     "output_type": "error",
     "traceback": [
      "\u001b[1;31m---------------------------------------------------------------------------\u001b[0m",
      "\u001b[1;31mRuntimeError\u001b[0m                              Traceback (most recent call last)",
      "\u001b[1;32m<ipython-input-12-f0be07a9aef8>\u001b[0m in \u001b[0;36m<module>\u001b[1;34m\u001b[0m\n\u001b[0;32m     88\u001b[0m \u001b[0mdouble_pendulum\u001b[0m \u001b[1;33m=\u001b[0m \u001b[0mDynamicAnimation\u001b[0m\u001b[1;33m(\u001b[0m\u001b[0mtheta1\u001b[0m \u001b[1;33m,\u001b[0m \u001b[0mtheta2\u001b[0m\u001b[1;33m)\u001b[0m\u001b[1;33m\u001b[0m\u001b[1;33m\u001b[0m\u001b[0m\n\u001b[0;32m     89\u001b[0m \u001b[0mdisplay\u001b[0m\u001b[1;33m(\u001b[0m\u001b[0mdouble_pendulum\u001b[0m\u001b[1;33m.\u001b[0m\u001b[0msolution\u001b[0m\u001b[1;33m(\u001b[0m\u001b[1;33m)\u001b[0m\u001b[1;33m)\u001b[0m\u001b[1;33m\u001b[0m\u001b[1;33m\u001b[0m\u001b[0m\n\u001b[1;32m---> 90\u001b[1;33m \u001b[0mdisplay\u001b[0m\u001b[1;33m(\u001b[0m\u001b[0mdouble_pendulum\u001b[0m\u001b[1;33m.\u001b[0m\u001b[0manimation\u001b[0m\u001b[1;33m(\u001b[0m\u001b[1;33m)\u001b[0m\u001b[1;33m)\u001b[0m\u001b[1;33m\u001b[0m\u001b[1;33m\u001b[0m\u001b[0m\n\u001b[0m",
      "\u001b[1;32m<ipython-input-12-f0be07a9aef8>\u001b[0m in \u001b[0;36manimation\u001b[1;34m(self)\u001b[0m\n\u001b[0;32m     84\u001b[0m             \u001b[0mcamera\u001b[0m\u001b[1;33m.\u001b[0m\u001b[0msnap\u001b[0m\u001b[1;33m(\u001b[0m\u001b[1;33m)\u001b[0m\u001b[1;33m\u001b[0m\u001b[1;33m\u001b[0m\u001b[0m\n\u001b[0;32m     85\u001b[0m         \u001b[0manimation\u001b[0m \u001b[1;33m=\u001b[0m \u001b[0mcamera\u001b[0m\u001b[1;33m.\u001b[0m\u001b[0manimate\u001b[0m\u001b[1;33m(\u001b[0m\u001b[0minterval\u001b[0m\u001b[1;33m=\u001b[0m\u001b[1;36m300\u001b[0m\u001b[1;33m,\u001b[0m \u001b[0mblit\u001b[0m\u001b[1;33m=\u001b[0m\u001b[1;32mTrue\u001b[0m\u001b[1;33m)\u001b[0m\u001b[1;33m\u001b[0m\u001b[1;33m\u001b[0m\u001b[0m\n\u001b[1;32m---> 86\u001b[1;33m         \u001b[0mHTML\u001b[0m\u001b[1;33m(\u001b[0m\u001b[0manimation\u001b[0m\u001b[1;33m.\u001b[0m\u001b[0mto_html5_video\u001b[0m\u001b[1;33m(\u001b[0m\u001b[1;33m)\u001b[0m\u001b[1;33m)\u001b[0m\u001b[1;33m\u001b[0m\u001b[1;33m\u001b[0m\u001b[0m\n\u001b[0m\u001b[0;32m     87\u001b[0m \u001b[1;33m\u001b[0m\u001b[0m\n\u001b[0;32m     88\u001b[0m \u001b[0mdouble_pendulum\u001b[0m \u001b[1;33m=\u001b[0m \u001b[0mDynamicAnimation\u001b[0m\u001b[1;33m(\u001b[0m\u001b[0mtheta1\u001b[0m \u001b[1;33m,\u001b[0m \u001b[0mtheta2\u001b[0m\u001b[1;33m)\u001b[0m\u001b[1;33m\u001b[0m\u001b[1;33m\u001b[0m\u001b[0m\n",
      "\u001b[1;32m~\\anaconda3\\lib\\site-packages\\matplotlib\\animation.py\u001b[0m in \u001b[0;36mto_html5_video\u001b[1;34m(self, embed_limit)\u001b[0m\n\u001b[0;32m   1326\u001b[0m                 \u001b[1;31m# We create a writer manually so that we can get the\u001b[0m\u001b[1;33m\u001b[0m\u001b[1;33m\u001b[0m\u001b[1;33m\u001b[0m\u001b[0m\n\u001b[0;32m   1327\u001b[0m                 \u001b[1;31m# appropriate size for the tag\u001b[0m\u001b[1;33m\u001b[0m\u001b[1;33m\u001b[0m\u001b[1;33m\u001b[0m\u001b[0m\n\u001b[1;32m-> 1328\u001b[1;33m                 \u001b[0mWriter\u001b[0m \u001b[1;33m=\u001b[0m \u001b[0mwriters\u001b[0m\u001b[1;33m[\u001b[0m\u001b[0mrcParams\u001b[0m\u001b[1;33m[\u001b[0m\u001b[1;34m'animation.writer'\u001b[0m\u001b[1;33m]\u001b[0m\u001b[1;33m]\u001b[0m\u001b[1;33m\u001b[0m\u001b[1;33m\u001b[0m\u001b[0m\n\u001b[0m\u001b[0;32m   1329\u001b[0m                 writer = Writer(codec='h264',\n\u001b[0;32m   1330\u001b[0m                                 \u001b[0mbitrate\u001b[0m\u001b[1;33m=\u001b[0m\u001b[0mrcParams\u001b[0m\u001b[1;33m[\u001b[0m\u001b[1;34m'animation.bitrate'\u001b[0m\u001b[1;33m]\u001b[0m\u001b[1;33m,\u001b[0m\u001b[1;33m\u001b[0m\u001b[1;33m\u001b[0m\u001b[0m\n",
      "\u001b[1;32m~\\anaconda3\\lib\\site-packages\\matplotlib\\animation.py\u001b[0m in \u001b[0;36m__getitem__\u001b[1;34m(self, name)\u001b[0m\n\u001b[0;32m    162\u001b[0m         \u001b[1;32mif\u001b[0m \u001b[0mself\u001b[0m\u001b[1;33m.\u001b[0m\u001b[0mis_available\u001b[0m\u001b[1;33m(\u001b[0m\u001b[0mname\u001b[0m\u001b[1;33m)\u001b[0m\u001b[1;33m:\u001b[0m\u001b[1;33m\u001b[0m\u001b[1;33m\u001b[0m\u001b[0m\n\u001b[0;32m    163\u001b[0m             \u001b[1;32mreturn\u001b[0m \u001b[0mself\u001b[0m\u001b[1;33m.\u001b[0m\u001b[0m_registered\u001b[0m\u001b[1;33m[\u001b[0m\u001b[0mname\u001b[0m\u001b[1;33m]\u001b[0m\u001b[1;33m\u001b[0m\u001b[1;33m\u001b[0m\u001b[0m\n\u001b[1;32m--> 164\u001b[1;33m         \u001b[1;32mraise\u001b[0m \u001b[0mRuntimeError\u001b[0m\u001b[1;33m(\u001b[0m\u001b[1;34mf\"Requested MovieWriter ({name}) not available\"\u001b[0m\u001b[1;33m)\u001b[0m\u001b[1;33m\u001b[0m\u001b[1;33m\u001b[0m\u001b[0m\n\u001b[0m\u001b[0;32m    165\u001b[0m \u001b[1;33m\u001b[0m\u001b[0m\n\u001b[0;32m    166\u001b[0m \u001b[1;33m\u001b[0m\u001b[0m\n",
      "\u001b[1;31mRuntimeError\u001b[0m: Requested MovieWriter (ffmpeg) not available"
     ]
    },
    {
     "data": {
      "image/png": "[encoded data removed]",
      "text/plain": [
       "<Figure size 432x288 with 1 Axes>"
      ]
     },
     "metadata": {
      "needs_background": "light"
     },
     "output_type": "display_data"
    }
   ],
   "source": [
    "class DynamicAnimation: \n",
    "    def __init__(self, data , tspan):\n",
    "        \n",
    "        self.theta1 = theta1\n",
    "        self.theta2 = theta2\n",
    "        self.omega1 = self.theta1.diff(t) \n",
    "        self.omega2 = self.theta2.diff(t)\n",
    "        self.theta1_0 = 0\n",
    "        self.theta2_0 = pi/4\n",
    "        self.omega1_0 = 0\n",
    "        self.omega2_0 = 0\n",
    "        \n",
    "        self.l1 = l1\n",
    "        self.l2 = l2\n",
    "        self.m1 = m1\n",
    "        self.m2 = m2 \n",
    "        self.g = g\n",
    "        self.t = t\n",
    "        self.time = time \n",
    "        self.t_eval = t_eval\n",
    "\n",
    "        self.h1 = self.l1*cos(self.theta1)\n",
    "        self.h2 =  self.h1 + self.l2*cos(self.theta2)\n",
    "        \n",
    "        self.size = self.width , self.height = 1280 , 720\n",
    "            \n",
    "    def model(self):        \n",
    "        self.N = me.ReferenceFrame('N')\n",
    "        self.A = me.ReferenceFrame('A')\n",
    "        self.B = me.ReferenceFrame('B')\n",
    "        self.No = me.Point('No')\n",
    "        self.A.orient(self.N , 'axis' , (self.theta1, self.N.z))\n",
    "        self.B.orient(self.A , 'axis' , (self.theta2 , self.A.z))\n",
    "        self.P1 = me.Point('P1')\n",
    "        self.P2 = me.Point('P2')\n",
    "        self.P1.set_pos(self.No , self.l1*self.A.x)\n",
    "        self.P2.set_pos(self.P1 , self.l2*self.B.x)\n",
    "        self.v1 = self.P1.set_vel(self.N , self.theta1.diff(t)*self.l1*self.A.x)\n",
    "        self.v2 = self.P2.set_vel(self.N , (self.theta1.diff(t)*self.l1 + self.theta2.diff(t)*self.l2)*self.B.x)\n",
    "        self.pP1 = me.Particle('pP1' , self.P1 , self.m1)\n",
    "        self.pP2 = me.Particle('pP2' , self.P2 , self.m2)\n",
    "        self.pP1.potential_energy= -self.m1*self.g*self.h1\n",
    "        self.pP2.potential_energy= -self.m2*self.g*self.h2\n",
    "        \n",
    "        self.L = me.Lagrangian(self.N , self.pP1 , self.pP2)     \n",
    "        self.LM = me.LagrangesMethod(self.L , [self.theta1,self.theta2] , frame = self.N)\n",
    "        self.EOM = self.LM.form_lagranges_equations()\n",
    "                    \n",
    "    def space_state(self):\n",
    "        \n",
    "        self.Space_state = self.LM.rhs().subs({sin(self.theta1):self.theta1 , sin(self.theta2):self.theta2})\n",
    "        return self.Space_state\n",
    "    \n",
    "    def solution(self):\n",
    "        \n",
    "        self.model()\n",
    "        self.space_state()\n",
    "        \n",
    "        z = ( self.theta1, self.theta2, self.omega1, self.omega2 ) \n",
    "        self.lam_f = ( lambdify((self.t,z), list(self.Space_state), 'numpy') )\n",
    "        \n",
    "        self.sol = integrate.solve_ivp(self.lam_f, t_span = self.time, y0=(self.theta1_0, self.theta2_0, self.omega1_0, self.omega2_0)\n",
    "                                       ,t_eval = self.t_eval, dense_output= True) \n",
    "        \n",
    "        self.solution = self.sol.y\n",
    "        \n",
    "        self.omega1 = self.solution[2]\n",
    "        self.omega2 = self.solution[3]\n",
    "        self.theta1 = self.solution[0]\n",
    "        self.theta2 = self.solution[1]\n",
    "        \n",
    "    def animation(self):\n",
    "        fig = plt.figure()\n",
    "        camera = Camera(fig)\n",
    "        \n",
    "        for i in range(0,len(self.theta1)):\n",
    "            x1 =  self.l1*sin(self.theta1[i]) \n",
    "            y1 =  self.l1*cos(self.theta1[i])\n",
    "            x2 =  x1 + self.l2*sin(self.theta2[i])\n",
    "            y2 =  y1 + self.l2*cos(self.theta2[i])\n",
    "            \n",
    "        \n",
    "            plt.plot(x1,y1)\n",
    "            camera.snap()\n",
    "        animation = camera.animate(interval=300, blit=True)\n",
    "        HTML(animation.to_html5_video())\n",
    "\n",
    "double_pendulum = DynamicAnimation(theta1 , theta2) \n",
    "display(double_pendulum.solution())    \n",
    "display(double_pendulum.animation())"
   ]
  },
  {
   "cell_type": "code",
   "execution_count": null,
   "metadata": {},
   "outputs": [],
   "source": []
  },
  {
   "cell_type": "code",
   "execution_count": null,
   "metadata": {},
   "outputs": [],
   "source": []
  },
  {
   "cell_type": "code",
   "execution_count": null,
   "metadata": {},
   "outputs": [],
   "source": []
  },
  {
   "cell_type": "code",
   "execution_count": null,
   "metadata": {},
   "outputs": [],
   "source": []
  }
 ],
 "metadata": {
  "kernelspec": {
   "display_name": "Python 3",
   "language": "python",
   "name": "python3"
  },
  "language_info": {
   "codemirror_mode": {
    "name": "ipython",
    "version": 3
   },
   "file_extension": ".py",
   "mimetype": "text/x-python",
   "name": "python",
   "nbconvert_exporter": "python",
   "pygments_lexer": "ipython3",
   "version": "3.8.3"
  }
 },
 "nbformat": 4,
 "nbformat_minor": 4
}
