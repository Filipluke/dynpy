{
 "cells": [
  {
   "cell_type": "code",
   "execution_count": 36,
   "metadata": {},
   "outputs": [],
   "source": [
    "import plotly.express as px  \n",
    "import dash  \n",
    "import dash_core_components as dcc\n",
    "import dash_html_components as html\n",
    "from dash.dependencies import Input, Output\n",
    "\n",
    "\n",
    "import pandas as pd\n",
    "import matplotlib.pyplot as plt\n",
    "import numpy as np\n",
    "name = 'PZU'"
   ]
  },
  {
   "cell_type": "code",
   "execution_count": 37,
   "metadata": {},
   "outputs": [],
   "source": [
    "df = pd.read_html('https://www.biznesradar.pl/raporty-finansowe-rachunek-zyskow-i-strat/'+name+',Q')[1].drop([\n",
    "                                                                                    0,6,7,8,9,10,11,12,13,15,17]).set_index('Unnamed: 0')\n",
    "shares = pd.read_html('https://www.biznesradar.pl/wskazniki-wartosci-rynkowej/'+name)[0].drop([0,2,3,4,5,6,7,8,9\n",
    "                                                                                             ,10,11,12,13,14,15]).set_index('Unnamed: 0')\n",
    "\n",
    "\n",
    "del df[\"Unnamed: \"+str(len(df.columns))]  \n",
    "del shares[\"Unnamed: \"+str(len(shares.columns))] \n",
    "\n",
    "df = df.drop(df.columns[0:15], axis=1)\n",
    "shares = shares.drop(shares.columns[0:(len(shares.columns)-len(df.columns))]   ,axis=1)\n",
    "df.columns = df.columns.str.slice(start=2 , stop=7)\n",
    "shares.columns = df.columns\n",
    "     \n",
    "for i in range(len(df.columns)):\n",
    "    df[str(df.columns[i])] = df[str(df.columns[i])].str.replace('(k/k).*','')\n",
    "    df[str(df.columns[i])] = df[str(df.columns[i])].str.replace('(r/r).*','')\n",
    "    df[str(df.columns[i])] = df[str(df.columns[i])].str.replace(' ','')\n",
    "    shares[str(shares.columns[i])] = shares[str(shares.columns[i])].str.replace(' ','')\n",
    "    \n",
    "#for j in range(8):\n",
    "   # df.iloc[j] = pd.to_numeric(df.iloc[j], errors=\"coerce\")\n",
    "    \n",
    "df = df.apply(pd.to_numeric, errors='ignore')\n",
    "shares = shares.apply(pd.to_numeric, errors='ignore')"
   ]
  },
  {
   "cell_type": "code",
   "execution_count": 38,
   "metadata": {},
   "outputs": [],
   "source": [
    "#display(df)\n",
    "\n",
    "time = df.columns\n",
    "shares = shares.iloc[0]\n",
    "year = [ time[i] for i in range(3,len(time),4)]\n",
    "year = np.append(year , \" 'Q4 \")\n",
    "sell_revenue = df.iloc[0]\n",
    "Revenue_year = [np.sum(sell_revenue[i:i+4])/1000000 for i in range(0,len(sell_revenue),4)] \n",
    "\n",
    "\n",
    "\n",
    "Revenue_1Q = [ sell_revenue[i]/1000 for i in range(0,len(sell_revenue),4)]\n",
    "Revenue_2Q = [ sell_revenue[i]/1000 for i in range(1,len(sell_revenue),4)]\n",
    "Revenue_3Q = [ sell_revenue[i]/1000 for i in range(2,len(sell_revenue),4)]\n",
    "Revenue_4Q = [ sell_revenue[i]/1000 for i in range(3,len(sell_revenue),4)]\n",
    "\n",
    "\n",
    "#region = ['Revenue', 'Earnings']\n"
   ]
  },
  {
   "cell_type": "code",
   "execution_count": 47,
   "metadata": {},
   "outputs": [],
   "source": [
    "# ------------------------------- Interactive Components (Buttons, slides, etc.) \n",
    "\n",
    "\n",
    "\n",
    "\n",
    "\n",
    "\n",
    "# ----------------------------------------------------- Dashboard \n",
    "app = dash.Dash(__name__)\n",
    "app.layout = html.Div([\n",
    "\n",
    "    html.H1(\"Web Dashboard\", style={'text-align': 'center'}),\n",
    "\n",
    "    dcc.Dropdown(id=\"slct_year\",\n",
    "                 options=[\n",
    "                     {\"label\": region, \"value\": region}\n",
    "                     for region in np.sort(['Revenue', 'Earnings'])],\n",
    "                 ),\n",
    "\n",
    "    #html.Div(id='output_container', children=[]),\n",
    "    dcc.Graph(id='my_bee_map', figure={})\n",
    "\n",
    "])"
   ]
  },
  {
   "cell_type": "code",
   "execution_count": 59,
   "metadata": {},
   "outputs": [],
   "source": [
    "@app.callback(\n",
    "    [Output(component_id='output_container', component_property='children'),\n",
    "     Output(component_id='my_bee_map', component_property='figure')],\n",
    "    [Input(component_id='slct_year', component_property='value')]\n",
    ") \n",
    "\n",
    "\n",
    "\n",
    "def update_graph(option_slctd):\n",
    "    #print(option_slctd)\n",
    "    #print(type(option_slctd))\n",
    "\n",
    "    #container = \"The year chosen by user was: {}\".format(option_slctd)\n",
    "\n",
    "    #dff = dff[dff[\"Year\"] == option_slctd]\n",
    "    #dff = dff[dff[\"Affected by\"] == \"Varroa_mites\"]\n",
    "\n",
    "    fig = px.bar(\n",
    "        #df = dff,\n",
    "        x = time,\n",
    "        y = sell_revenue,\n",
    "        #hover_data=['State', 'Pct of Colonies Impacted'],\n",
    "        #labels={'Pct of Colonies Impacted': '% of Bee Colonies'},\n",
    "        #template='plotly_dark'\n",
    "    )\n",
    "\n",
    "    return  fig"
   ]
  },
  {
   "cell_type": "code",
   "execution_count": 60,
   "metadata": {},
   "outputs": [
    {
     "name": "stdout",
     "output_type": "stream",
     "text": [
      "Dash is running on http://127.0.0.1:8050/\n",
      "\n",
      "Dash is running on http://127.0.0.1:8050/\n",
      "\n",
      "Dash is running on http://127.0.0.1:8050/\n",
      "\n",
      "Dash is running on http://127.0.0.1:8050/\n",
      "\n",
      "Dash is running on http://127.0.0.1:8050/\n",
      "\n",
      "Dash is running on http://127.0.0.1:8050/\n",
      "\n",
      "Dash is running on http://127.0.0.1:8050/\n",
      "\n",
      "Dash is running on http://127.0.0.1:8050/\n",
      "\n",
      "Dash is running on http://127.0.0.1:8050/\n",
      "\n",
      "Dash is running on http://127.0.0.1:8050/\n",
      "\n",
      "Dash is running on http://127.0.0.1:8050/\n",
      "\n",
      "Dash is running on http://127.0.0.1:8050/\n",
      "\n",
      " * Serving Flask app \"__main__\" (lazy loading)\n",
      " * Environment: production\n",
      "   WARNING: This is a development server. Do not use it in a production deployment.\n",
      "   Use a production WSGI server instead.\n",
      " * Debug mode: off\n"
     ]
    },
    {
     "name": "stderr",
     "output_type": "stream",
     "text": [
      " * Running on http://127.0.0.1:8050/ (Press CTRL+C to quit)\n",
      "127.0.0.1 - - [23/Feb/2021 20:46:28] \"\u001b[37mGET / HTTP/1.1\u001b[0m\" 200 -\n",
      "127.0.0.1 - - [23/Feb/2021 20:46:28] \"\u001b[37mGET /_dash-layout HTTP/1.1\u001b[0m\" 200 -\n",
      "127.0.0.1 - - [23/Feb/2021 20:46:28] \"\u001b[37mGET /_dash-dependencies HTTP/1.1\u001b[0m\" 200 -\n"
     ]
    }
   ],
   "source": [
    "if __name__ == '__main__':\n",
    "    app.run_server(use_reloader=False)"
   ]
  },
  {
   "cell_type": "code",
   "execution_count": null,
   "metadata": {},
   "outputs": [],
   "source": []
  }
 ],
 "metadata": {
  "kernelspec": {
   "display_name": "Python 3",
   "language": "python",
   "name": "python3"
  },
  "language_info": {
   "codemirror_mode": {
    "name": "ipython",
    "version": 3
   },
   "file_extension": ".py",
   "mimetype": "text/x-python",
   "name": "python",
   "nbconvert_exporter": "python",
   "pygments_lexer": "ipython3",
   "version": "3.8.3"
  }
 },
 "nbformat": 4,
 "nbformat_minor": 4
}
