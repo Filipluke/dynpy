{
 "cells": [
  {
   "cell_type": "code",
   "execution_count": 1,
   "metadata": {
    "collapsed": false
   },
   "outputs": [
   ],
   "source": [
    "\n",
    "\n",
    "from sympy import *\n",
    "from sympy.physics.mechanics import *\n",
    "mechanics_printing()\n"
   ]
  },
  {
   "cell_type": "code",
   "execution_count": 2,
   "metadata": {
    "collapsed": false
   },
   "outputs": [
    {
     "name": "stdout",
     "output_type": "stream",
     "text": [
      "du\n",
      "[varphi(t), h_mod(t), h_mod_c(t), Derivative(varphi(t), t), Derivative(h_mod(t), t), Derivative(h_mod_c(t), t), x_1(t), x_2(t)]\n"
     ]
    },
    {
     "data": {
      "image/png": "[encoded data removed]",
      "text/latex": [
       "$\\displaystyle - 0.5 k \\left(x_{1} - x_{2}\\right)^{2} - 0.5 k \\left(x_{1} - 0.5 \\operatorname{cos}\\left(6 \\Omega t\\right) - 0.5 \\operatorname{cos}\\left(10 \\Omega t\\right) - \\frac{0.5 \\operatorname{sin}\\left(3 \\Omega t\\right)}{10 - 9 \\Omega^{2}} - \\frac{0.5 \\operatorname{sin}\\left(5 \\Omega t\\right)}{10 - 25 \\Omega^{2}}\\right)^{2} - 0.5 k \\left(x_{2} - \\operatorname{cos}\\left(6 \\Omega t\\right) - \\operatorname{cos}\\left(10 \\Omega t\\right) - \\frac{\\operatorname{sin}\\left(3 \\Omega t\\right)}{10 - 9 \\Omega^{2}} - \\frac{\\operatorname{sin}\\left(5 \\Omega t\\right)}{10 - 25 \\Omega^{2}}\\right)^{2} + 0.75 m \\dot{x}_{1}^{2} + 0.75 m \\dot{x}_{2}^{2}$"
      ],
      "text/plain": [
       "                                                                              \n",
       "                 2         ⎛                                        0.5⋅sin(3⋅\n",
       "- 0.5⋅k⋅(x₁ - x₂)  - 0.5⋅k⋅⎜x₁ - 0.5⋅cos(6⋅Ω⋅t) - 0.5⋅cos(10⋅Ω⋅t) - ──────────\n",
       "                           ⎜                                                  \n",
       "                           ⎝                                          10 - 9⋅Ω\n",
       "\n",
       "                      2                                                       \n",
       "Ω⋅t)   0.5⋅sin(5⋅Ω⋅t)⎞          ⎛                                sin(3⋅Ω⋅t)   \n",
       "──── - ──────────────⎟  - 0.5⋅k⋅⎜x₂ - cos(6⋅Ω⋅t) - cos(10⋅Ω⋅t) - ────────── - \n",
       "2                 2  ⎟          ⎜                                        2    \n",
       "         10 - 25⋅Ω   ⎠          ⎝                                10 - 9⋅Ω     \n",
       "\n",
       "           2                          \n",
       "sin(5⋅Ω⋅t)⎞             2            2\n",
       "──────────⎟  + 0.75⋅m⋅x₁̇  + 0.75⋅m⋅x₂̇ \n",
       "         2⎟                           \n",
       "10 - 25⋅Ω ⎠                           "
      ]
     },
     "execution_count": 2,
     "metadata": {
     },
     "output_type": "execute_result"
    }
   ],
   "source": [
    "#3 dof\n",
    "t = symbols('t')\n",
    "m,k,A = symbols('m k A',positive=True)\n",
    "\n",
    "coords='phi h h_c x1 x2'\n",
    "phi, h, h_c, x1, x2 = dynamicsymbols('varphi h_mod h_mod_c x_1 x_2')\n",
    "dphi, dh, dh_c, dx1, dx2 = dynamicsymbols('varphi h_mod h_mod_c x_1 x_2', 1)\n",
    "q = [phi, h, h_c, dphi, dh, dh_c, x1, x2]\n",
    "u=q[0:3]\n",
    "du = q[3:6]\n",
    "print('du')\n",
    "nDOF=len(u)\n",
    "print(q)\n",
    "\n",
    "#params_list=[m_p,omega]\n",
    "\n",
    "f_ext=(sum(1/(10-omg**2)*sin(omg*t)+cos(omg*2*t) for omg in [3*Symbol('Omega'),5*Symbol('Omega'),]))\n",
    "\n",
    "T=dh**2/2+dh_c**2/2\n",
    "V=h**2/2+h_c**2/2+(h-h_c)**2/2\n",
    "T,V\n",
    "T=3/4*m*dx1**2+3/4*m*dx2**2\n",
    "V=1/2*k*(x1-0.5*f_ext)**2+1/2*k*(x1-x2)**2+1/2*k*(x2-f_ext)**2\n",
    "T-V"
   ]
  },
  {
   "cell_type": "code",
   "execution_count": 2,
   "metadata": {
    "collapsed": false
   },
   "outputs": [
    {
     "ename": "NameError",
     "evalue": "name 'LagrangesMethod' is not defined",
     "output_type": "error",
     "traceback": [
      "\u001b[0;31m---------------------------------------------------------------------------\u001b[0m",
      "\u001b[0;31mNameError\u001b[0m                                 Traceback (most recent call last)",
      "\u001b[0;32m<ipython-input-2-28a2497c1b4a>\u001b[0m in \u001b[0;36m<module>\u001b[0;34m\u001b[0m\n\u001b[1;32m      3\u001b[0m \u001b[0mimportlib\u001b[0m\u001b[0;34m.\u001b[0m\u001b[0mreload\u001b[0m\u001b[0;34m(\u001b[0m\u001b[0mdyn\u001b[0m\u001b[0;34m)\u001b[0m\u001b[0;34m\u001b[0m\u001b[0;34m\u001b[0m\u001b[0m\n\u001b[1;32m      4\u001b[0m \u001b[0;34m\u001b[0m\u001b[0m\n\u001b[0;32m----> 5\u001b[0;31m \u001b[0mLagrangesMethod\u001b[0m\u001b[0;34m(\u001b[0m\u001b[0;34m(\u001b[0m\u001b[0mT\u001b[0m\u001b[0;34m-\u001b[0m\u001b[0mV\u001b[0m\u001b[0;34m)\u001b[0m\u001b[0;34m.\u001b[0m\u001b[0msubs\u001b[0m\u001b[0;34m(\u001b[0m\u001b[0;34m{\u001b[0m\u001b[0mm\u001b[0m\u001b[0;34m:\u001b[0m\u001b[0;36m1\u001b[0m\u001b[0;34m,\u001b[0m\u001b[0mk\u001b[0m\u001b[0;34m:\u001b[0m\u001b[0;36m2\u001b[0m\u001b[0;34m}\u001b[0m\u001b[0;34m)\u001b[0m\u001b[0;34m,\u001b[0m\u001b[0;34m[\u001b[0m\u001b[0mx1\u001b[0m\u001b[0;34m,\u001b[0m\u001b[0mx2\u001b[0m\u001b[0;34m]\u001b[0m\u001b[0;34m)\u001b[0m\u001b[0;34m\u001b[0m\u001b[0;34m\u001b[0m\u001b[0m\n\u001b[0m\u001b[1;32m      6\u001b[0m \u001b[0;34m\u001b[0m\u001b[0m\n\u001b[1;32m      7\u001b[0m \u001b[0mDS\u001b[0m\u001b[0;34m=\u001b[0m\u001b[0mdyn\u001b[0m\u001b[0;34m.\u001b[0m\u001b[0mHarmonicOscillator\u001b[0m\u001b[0;34m(\u001b[0m\u001b[0mLagrangesMethod\u001b[0m\u001b[0;34m(\u001b[0m\u001b[0;34m(\u001b[0m\u001b[0mT\u001b[0m\u001b[0;34m-\u001b[0m\u001b[0mV\u001b[0m\u001b[0;34m)\u001b[0m\u001b[0;34m.\u001b[0m\u001b[0msubs\u001b[0m\u001b[0;34m(\u001b[0m\u001b[0;34m{\u001b[0m\u001b[0mm\u001b[0m\u001b[0;34m:\u001b[0m\u001b[0;36m1\u001b[0m\u001b[0;34m,\u001b[0m\u001b[0mk\u001b[0m\u001b[0;34m:\u001b[0m\u001b[0;36m2\u001b[0m\u001b[0;34m}\u001b[0m\u001b[0;34m)\u001b[0m\u001b[0;34m,\u001b[0m\u001b[0;34m[\u001b[0m\u001b[0mx1\u001b[0m\u001b[0;34m,\u001b[0m\u001b[0mx2\u001b[0m\u001b[0;34m]\u001b[0m\u001b[0;34m)\u001b[0m\u001b[0;34m,\u001b[0m\u001b[0;34m[\u001b[0m\u001b[0mx1\u001b[0m\u001b[0;34m,\u001b[0m\u001b[0mx2\u001b[0m\u001b[0;34m]\u001b[0m\u001b[0;34m)\u001b[0m\u001b[0;34m\u001b[0m\u001b[0;34m\u001b[0m\u001b[0m\n",
      "\u001b[0;31mNameError\u001b[0m: name 'LagrangesMethod' is not defined"
     ]
    }
   ],
   "source": [
    "import importlib\n",
    "import tools as dyn\n",
    "importlib.reload(dyn)\n",
    "\n",
    "LagrangesMethod((T-V).subs({m:1,k:2}),[x1,x2])\n",
    "\n",
    "DS=dyn.HarmonicOscillator(LagrangesMethod((T-V).subs({m:1,k:2}),[x1,x2]),[x1,x2])\n",
    "DS\n",
    "DS.form_lagranges_equations()\n",
    "\n",
    "DS.rhs_eq()\n",
    "\n",
    "(DS.inertia_matrix())\n",
    "(DS.stiffness_matrix())\n",
    "\n",
    "DS.system_parameters()\n",
    "DS.damping_matrix()\n",
    "\n",
    "DS.natural_frequencies()\n",
    "DS.modes()\n",
    "\n",
    "DS.approximate(n=4,label='3rd_order').rhs()\n",
    "\n",
    "DS.linearize(label='linearized')\n",
    "\n",
    "\n",
    "\n",
    "#DS.modes()[1,:]\n",
    "#DS.steady_solution_amp(Matrix([1,0]),Matrix([1,0]))\n",
    "DS.external_forces()\n",
    "\n",
    "DS.steady_solution()"
   ]
  },
  {
   "cell_type": "code",
   "execution_count": 0,
   "metadata": {
    "collapsed": false
   },
   "outputs": [
   ],
   "source": [
   ]
  },
  {
   "cell_type": "code",
   "execution_count": 28,
   "metadata": {
    "collapsed": false
   },
   "outputs": [
    {
     "data": {
      "image/png": "[encoded data removed]",
      "text/latex": [
       "$\\displaystyle \\left[ -0.166666666666667, \\  0.111111111111111, \\  -0.0140845070422535, \\  -0.0185185185185185, \\  1, \\  -0.0185185185185185, \\  1, \\  -0.166666666666667, \\  0.111111111111111, \\  -0.0140845070422535, \\  1, \\  1\\right]$"
      ],
      "text/plain": [
       "[-0.166666666666667, 0.111111111111111, -0.0140845070422535, -0.01851851851851\n",
       "85, 1, -0.0185185185185185, 1, -0.166666666666667, 0.111111111111111, -0.01408\n",
       "45070422535, 1, 1]"
      ]
     },
     "execution_count": 28,
     "metadata": {
     },
     "output_type": "execute_result"
    }
   ],
   "source": [
    "expr=(sum(1/(10-omg**2)*sin(omg*t)+cos(omg*2*t) for omg in [1,4,8,9]))\n",
    "\n",
    "[expr.coeff(comp) for comp  in   expr.atoms(sin)]+[expr.coeff(comp) for comp  in   expr.atoms(cos,sin)]"
   ]
  },
  {
   "cell_type": "code",
   "execution_count": 18,
   "metadata": {
    "collapsed": false
   },
   "outputs": [
    {
     "data": {
      "image/png": "[encoded data removed]",
      "text/latex": [
       "$\\displaystyle \\left[ 1, \\  2, \\  3\\right]$"
      ],
      "text/plain": [
       "[1, 2, 3]"
      ]
     },
     "execution_count": 18,
     "metadata": {
     },
     "output_type": "execute_result"
    }
   ],
   "source": [
    "[elem for elem in ({1,2,3})]"
   ]
  },
  {
   "cell_type": "code",
   "execution_count": 0,
   "metadata": {
    "collapsed": false
   },
   "outputs": [
   ],
   "source": [
   ]
  }
 ],
 "metadata": {
  "kernelspec": {
   "display_name": "Python 3 (system-wide)",
   "language": "python",
   "metadata": {
    "cocalc": {
     "description": "Python 3 programming language",
     "priority": 100,
     "url": "https://www.python.org/"
    }
   },
   "name": "python3",
   "resource_dir": "/ext/jupyter/kernels/python3"
  },
  "language_info": {
   "codemirror_mode": {
    "name": "ipython",
    "version": 3
   },
   "file_extension": ".py",
   "mimetype": "text/x-python",
   "name": "python",
   "nbconvert_exporter": "python",
   "pygments_lexer": "ipython3",
   "version": "3.8.5"
  }
 },
 "nbformat": 4,
 "nbformat_minor": 4
}