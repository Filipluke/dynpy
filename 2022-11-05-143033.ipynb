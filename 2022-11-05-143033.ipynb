{
 "cells": [
  {
   "cell_type": "code",
   "execution_count": 13,
   "metadata": {
    "collapsed": false
   },
   "outputs": [
   ],
   "source": [
    "import sympy\n",
    "from sympy import *\n",
    "from sympy.physics.mechanics import dynamicsymbols, init_vprinting\n",
    "from pylatex import Document, Section, package  #do importowania python na kod latex\n",
    "##from dynpy.utilities.report import ReportText, Markdown, Picture, SympyFormula_\n",
    "init_vprinting()"
   ]
  },
  {
   "cell_type": "code",
   "execution_count": 20,
   "metadata": {
    "collapsed": false
   },
   "outputs": [
    {
     "ename": "NameError",
     "evalue": "name 'SympyFormula' is not defined",
     "output_type": "error",
     "traceback": [
      "\u001b[0;31m---------------------------------------------------------------------------\u001b[0m",
      "\u001b[0;31mNameError\u001b[0m                                 Traceback (most recent call last)",
      "\u001b[0;32m/tmp/ipykernel_829/1697242229.py\u001b[0m in \u001b[0;36m<cell line: 2>\u001b[0;34m()\u001b[0m\n\u001b[1;32m      1\u001b[0m \u001b[0msec_ogolna\u001b[0m \u001b[0;34m=\u001b[0m \u001b[0mSection\u001b[0m\u001b[0;34m(\u001b[0m\u001b[0;34m'Rozwiązanie układu dynamiki drgań skrętnych wymuszonych - Wał'\u001b[0m\u001b[0;34m)\u001b[0m\u001b[0;34m\u001b[0m\u001b[0;34m\u001b[0m\u001b[0m\n\u001b[0;32m----> 2\u001b[0;31m \u001b[0mSympyFormula\u001b[0m\u001b[0;34m.\u001b[0m\u001b[0mset_container\u001b[0m\u001b[0;34m(\u001b[0m\u001b[0msec_ogolna\u001b[0m\u001b[0;34m)\u001b[0m\u001b[0;34m\u001b[0m\u001b[0;34m\u001b[0m\u001b[0m\n\u001b[0m\u001b[1;32m      3\u001b[0m \u001b[0mReportText\u001b[0m\u001b[0;34m.\u001b[0m\u001b[0mset_container\u001b[0m\u001b[0;34m(\u001b[0m\u001b[0msec_ogolna\u001b[0m\u001b[0;34m)\u001b[0m\u001b[0;34m\u001b[0m\u001b[0;34m\u001b[0m\u001b[0m\n\u001b[1;32m      4\u001b[0m \u001b[0mdisplay\u001b[0m\u001b[0;34m(\u001b[0m\u001b[0mReportText\u001b[0m\u001b[0;34m(\u001b[0m\u001b[0;34m'Przykładowe rozwiązania dynamiki'\u001b[0m\u001b[0;34m)\u001b[0m\u001b[0;34m)\u001b[0m\u001b[0;34m\u001b[0m\u001b[0;34m\u001b[0m\u001b[0m\n\u001b[1;32m      5\u001b[0m \u001b[0mprint\u001b[0m\u001b[0;34m(\u001b[0m\u001b[0msec_ogolna\u001b[0m\u001b[0;34m.\u001b[0m\u001b[0mdumps\u001b[0m\u001b[0;34m(\u001b[0m\u001b[0;34m)\u001b[0m\u001b[0;34m)\u001b[0m\u001b[0;34m\u001b[0m\u001b[0;34m\u001b[0m\u001b[0m\n",
      "\u001b[0;31mNameError\u001b[0m: name 'SympyFormula' is not defined"
     ]
    }
   ],
   "source": [
    "sec_ogolna = Section('Rozwiązanie układu dynamiki drgań skrętnych wymuszonych - Wał')\n",
    "SympyFormula.set_container(sec_ogolna)\n",
    "ReportText.set_container(sec_ogolna)\n",
    "display(ReportText('Przykładowe rozwiązania dynamiki'))\n",
    "print(sec_ogolna.dumps())"
   ]
  },
  {
   "cell_type": "code",
   "execution_count": 22,
   "metadata": {
    "collapsed": false
   },
   "outputs": [
    {
     "ename": "NameError",
     "evalue": "name 'ReportText' is not defined",
     "output_type": "error",
     "traceback": [
      "\u001b[0;31m---------------------------------------------------------------------------\u001b[0m",
      "\u001b[0;31mNameError\u001b[0m                                 Traceback (most recent call last)",
      "\u001b[0;32m/tmp/ipykernel_829/945776390.py\u001b[0m in \u001b[0;36m<cell line: 13>\u001b[0;34m()\u001b[0m\n\u001b[1;32m     11\u001b[0m \u001b[0mEk\u001b[0m \u001b[0;34m=\u001b[0m \u001b[0mS\u001b[0m\u001b[0;34m.\u001b[0m\u001b[0mOne\u001b[0m \u001b[0;34m/\u001b[0m \u001b[0;36m2\u001b[0m \u001b[0;34m*\u001b[0m \u001b[0mIm1\u001b[0m \u001b[0;34m*\u001b[0m \u001b[0mphi1\u001b[0m\u001b[0;34m.\u001b[0m\u001b[0mdiff\u001b[0m\u001b[0;34m(\u001b[0m\u001b[0mt\u001b[0m\u001b[0;34m)\u001b[0m\u001b[0;34m**\u001b[0m\u001b[0;36m2\u001b[0m \u001b[0;34m+\u001b[0m \u001b[0mS\u001b[0m\u001b[0;34m.\u001b[0m\u001b[0mOne\u001b[0m \u001b[0;34m/\u001b[0m \u001b[0;36m2\u001b[0m \u001b[0;34m*\u001b[0m \u001b[0mIm2\u001b[0m \u001b[0;34m*\u001b[0m \u001b[0mphi2\u001b[0m\u001b[0;34m.\u001b[0m\u001b[0mdiff\u001b[0m\u001b[0;34m(\u001b[0m\u001b[0mt\u001b[0m\u001b[0;34m)\u001b[0m\u001b[0;34m**\u001b[0m\u001b[0;36m2\u001b[0m\u001b[0;34m\u001b[0m\u001b[0;34m\u001b[0m\u001b[0m\n\u001b[1;32m     12\u001b[0m \u001b[0mEp\u001b[0m \u001b[0;34m=\u001b[0m \u001b[0mS\u001b[0m\u001b[0;34m.\u001b[0m\u001b[0mOne\u001b[0m \u001b[0;34m/\u001b[0m \u001b[0;36m2\u001b[0m \u001b[0;34m*\u001b[0m \u001b[0mG\u001b[0m \u001b[0;34m*\u001b[0m \u001b[0mI2\u001b[0m \u001b[0;34m*\u001b[0m \u001b[0;34m(\u001b[0m\u001b[0mtheta\u001b[0m \u001b[0;34m-\u001b[0m \u001b[0mphi2\u001b[0m\u001b[0;34m)\u001b[0m\u001b[0;34m**\u001b[0m\u001b[0;36m2\u001b[0m \u001b[0;34m/\u001b[0m \u001b[0ml2\u001b[0m \u001b[0;34m+\u001b[0m \u001b[0mS\u001b[0m\u001b[0;34m.\u001b[0m\u001b[0mOne\u001b[0m \u001b[0;34m/\u001b[0m \u001b[0;36m2\u001b[0m \u001b[0;34m*\u001b[0m \u001b[0mG\u001b[0m \u001b[0;34m*\u001b[0m \u001b[0mI1\u001b[0m \u001b[0;34m*\u001b[0m \u001b[0;34m(\u001b[0m\u001b[0mphi2\u001b[0m \u001b[0;34m-\u001b[0m \u001b[0mphi1\u001b[0m\u001b[0;34m)\u001b[0m\u001b[0;34m**\u001b[0m\u001b[0;36m2\u001b[0m \u001b[0;34m/\u001b[0m \u001b[0ml1\u001b[0m\u001b[0;34m\u001b[0m\u001b[0;34m\u001b[0m\u001b[0m\n\u001b[0;32m---> 13\u001b[0;31m \u001b[0mdisplay\u001b[0m\u001b[0;34m(\u001b[0m\u001b[0mReportText\u001b[0m\u001b[0;34m(\u001b[0m\u001b[0;34m'Energia kinetyczna układu: \\n\\n'\u001b[0m\u001b[0;34m)\u001b[0m\u001b[0;34m)\u001b[0m\u001b[0;34m\u001b[0m\u001b[0;34m\u001b[0m\u001b[0m\n\u001b[0m\u001b[1;32m     14\u001b[0m \u001b[0mdisplay\u001b[0m\u001b[0;34m(\u001b[0m\u001b[0mSympyFormula\u001b[0m\u001b[0;34m(\u001b[0m\u001b[0mEq\u001b[0m\u001b[0;34m(\u001b[0m\u001b[0msymbol\u001b[0m\u001b[0;34m(\u001b[0m\u001b[0;34m'Ek'\u001b[0m\u001b[0;34m)\u001b[0m\u001b[0;34m,\u001b[0m \u001b[0mEk\u001b[0m\u001b[0;34m)\u001b[0m\u001b[0;34m)\u001b[0m\u001b[0;34m)\u001b[0m\u001b[0;34m\u001b[0m\u001b[0;34m\u001b[0m\u001b[0m\n\u001b[1;32m     15\u001b[0m \u001b[0mdisplay\u001b[0m\u001b[0;34m(\u001b[0m\u001b[0mReportText\u001b[0m\u001b[0;34m(\u001b[0m\u001b[0;34m'Energia potencjalna układu: \\n\\n'\u001b[0m\u001b[0;34m)\u001b[0m\u001b[0;34m)\u001b[0m\u001b[0;34m\u001b[0m\u001b[0;34m\u001b[0m\u001b[0m\n",
      "\u001b[0;31mNameError\u001b[0m: name 'ReportText' is not defined"
     ]
    }
   ],
   "source": [
    "I1, I2, G, Im1 = symbols(\"I_1 I_2 G I_m1\")\n",
    "l1, l2, T1, T2 = symbols(\"l_1 l_2 T_1 T_2\")\n",
    "theta_0, Im2, Omega = symbols(\"theta_0 I_m2 Omega\")\n",
    "t = Symbol(\"t\")\n",
    "phi1 = Function('phi_1')(t)\n",
    "phi2 = Function('phi_2')(t)\n",
    "wspolrzedne = Matrix([[phi1],[phi2]])\n",
    "A=Matrix([[5],[2]])\n",
    "theta = theta_0 * cos(Omega * t)\n",
    "##wspolrzedne uogolonione nie wiem dlaczego komentarz \n",
    "Ek = S.One / 2 * Im1 * phi1.diff(t)**2 + S.One / 2 * Im2 * phi2.diff(t)**2\n",
    "Ep = S.One / 2 * G * I2 * (theta - phi2)**2 / l2 + S.One / 2 * G * I1 * (phi2 - phi1)**2 / l1\n",
    "display(ReportText('Energia kinetyczna układu: \\n\\n'))\n",
    "display(SympyFormula(Eq(symbol('Ek'), Ek)))\n",
    "display(ReportText('Energia potencjalna układu: \\n\\n'))\n",
    "display(SympyFormula(Eq(symbol('Ep'), Ep)))\n",
    "\n"
   ]
  },
  {
   "cell_type": "code",
   "execution_count": 23,
   "metadata": {
    "collapsed": false
   },
   "outputs": [
    {
     "ename": "NameError",
     "evalue": "name 'SympyFormula' is not defined",
     "output_type": "error",
     "traceback": [
      "\u001b[0;31m---------------------------------------------------------------------------\u001b[0m",
      "\u001b[0;31mNameError\u001b[0m                                 Traceback (most recent call last)",
      "\u001b[0;32m/tmp/ipykernel_829/981750058.py\u001b[0m in \u001b[0;36m<cell line: 2>\u001b[0;34m()\u001b[0m\n\u001b[1;32m      1\u001b[0m \u001b[0mL\u001b[0m\u001b[0;34m=\u001b[0m\u001b[0mEk\u001b[0m\u001b[0;34m-\u001b[0m\u001b[0mEp\u001b[0m\u001b[0;34m\u001b[0m\u001b[0;34m\u001b[0m\u001b[0m\n\u001b[0;32m----> 2\u001b[0;31m \u001b[0mSympyFormula\u001b[0m\u001b[0;34m(\u001b[0m\u001b[0mEq\u001b[0m\u001b[0;34m(\u001b[0m\u001b[0mSymbol\u001b[0m\u001b[0;34m(\u001b[0m\u001b[0;34m'L'\u001b[0m\u001b[0;34m)\u001b[0m\u001b[0;34m,\u001b[0m\u001b[0mL\u001b[0m\u001b[0;34m)\u001b[0m\u001b[0;34m)\u001b[0m\u001b[0;34m\u001b[0m\u001b[0;34m\u001b[0m\u001b[0m\n\u001b[0m",
      "\u001b[0;31mNameError\u001b[0m: name 'SympyFormula' is not defined"
     ]
    }
   ],
   "source": [
    "L=Ek-Ep\n",
    "ReportText('Lagranżian przedstawia się następująco: \\n\\n')\n",
    "display(SympyFormula(Eq(Symbol('L'),L)))\n",
    "SympyFormula(Eq(Symbol('L'),L))"
   ]
  },
  {
   "cell_type": "code",
   "execution_count": 0,
   "metadata": {
    "collapsed": false
   },
   "outputs": [
   ],
   "source": [
    "l0, m0, T0 = symbols(\"l_0 m_0 T_0\")\n",
    "\n",
    "dane = {\n",
    "    I1: l0**4/8,\n",
    "    I2: l0**4/16,\n",
    "    Im1: 3*l0**2*m0/2,\n",
    "    Im2: 4*l0**2*m0,\n",
    "    l1: l0/4,\n",
    "    l2: l0/2,\n",
    "    T1: 4*T0,\n",
    "    T2: 10*T0\n",
    "}\n",
    "opisy = {\n",
    "    I1: 'Geometryczny moment bezwadności koła 1',\n",
    "    I2: 'Geometryczny moment bezwadności koła 2',\n",
    "    Im1: 'Masowy moment bezwadności koła 1',\n",
    "    Im2: 'Masowy moment bezwadności koła 2',\n",
    "    l1: 'Odległość 1',\n",
    "    l2: 'Odległość 2',\n",
    "    T1: \"Moment koła 1\",\n",
    "    T2: \"Moment koła 2\",\n",
    "}"
   ]
  },
  {
   "cell_type": "code",
   "execution_count": 24,
   "metadata": {
    "collapsed": false
   },
   "outputs": [
    {
     "ename": "SyntaxError",
     "evalue": "invalid syntax (2776547238.py, line 1)",
     "output_type": "error",
     "traceback": [
      "\u001b[0;36m  File \u001b[0;32m\"/tmp/ipykernel_829/2776547238.py\"\u001b[0;36m, line \u001b[0;32m1\u001b[0m\n\u001b[0;31m    for element, opis in dane.items()\u001b[0m\n\u001b[0m                                     ^\u001b[0m\n\u001b[0;31mSyntaxError\u001b[0m\u001b[0;31m:\u001b[0m invalid syntax\n"
     ]
    }
   ],
   "source": [
    "for element, opis in dane.items()\n",
    "    display(ReportText('$'+latex(element)+ '$ - ' + opisy[element]\n",
    "    display(ReportText(f'${latex}(Eq(element,opis))$\\n\\n'))\n",
    "                       ##\\n\\n' to enter chyba\n",
    "                       "
   ]
  },
  {
   "cell_type": "code",
   "execution_count": 0,
   "metadata": {
    "collapsed": false
   },
   "outputs": [
   ],
   "source": [
    "display(ReportText('Ladranjz dla naszych danych \\n\\n'))\n",
    "SympyFormula(L.subs(dane))"
   ]
  },
  {
   "cell_type": "code",
   "execution_count": 15,
   "metadata": {
    "collapsed": false
   },
   "outputs": [
    {
     "ename": "NameError",
     "evalue": "name 'SympyForumla' is not defined",
     "output_type": "error",
     "traceback": [
      "\u001b[0;31m---------------------------------------------------------------------------\u001b[0m",
      "\u001b[0;31mNameError\u001b[0m                                 Traceback (most recent call last)",
      "\u001b[0;32m/tmp/ipykernel_829/2194911897.py\u001b[0m in \u001b[0;36m<cell line: 1>\u001b[0;34m()\u001b[0m\n\u001b[0;32m----> 1\u001b[0;31m \u001b[0mSympyForumla\u001b[0m\u001b[0;34m.\u001b[0m\u001b[0mset_container\u001b[0m\u001b[0;34m(\u001b[0m\u001b[0msec_ogolna\u001b[0m\u001b[0;34m)\u001b[0m\u001b[0;34m\u001b[0m\u001b[0;34m\u001b[0m\u001b[0m\n\u001b[0m\u001b[1;32m      2\u001b[0m \u001b[0mReportText\u001b[0m\u001b[0;34m(\u001b[0m\u001b[0;34m'Współrzędne uogólnione'\u001b[0m\u001b[0;34m)\u001b[0m\u001b[0;34m\u001b[0m\u001b[0;34m\u001b[0m\u001b[0m\n\u001b[1;32m      3\u001b[0m \u001b[0mdisplay\u001b[0m\u001b[0;34m(\u001b[0m\u001b[0mSympyFormula\u001b[0m\u001b[0;34m(\u001b[0m\u001b[0mwspolrzedne\u001b[0m\u001b[0;34m)\u001b[0m\u001b[0;34m)\u001b[0m\u001b[0;34m\u001b[0m\u001b[0;34m\u001b[0m\u001b[0m\n\u001b[1;32m      4\u001b[0m \u001b[0mprint\u001b[0m\u001b[0;34m(\u001b[0m\u001b[0msec_ogolna\u001b[0m\u001b[0;34m.\u001b[0m\u001b[0mdumps\u001b[0m\u001b[0;34m(\u001b[0m\u001b[0;34m)\u001b[0m\u001b[0;34m)\u001b[0m\u001b[0;34m\u001b[0m\u001b[0;34m\u001b[0m\u001b[0m\n",
      "\u001b[0;31mNameError\u001b[0m: name 'SympyForumla' is not defined"
     ]
    }
   ],
   "source": [
    "SympyForumla.set_container(sec_ogolna)\n",
    "ReportText('Współrzędne uogólnione')\n",
    "display(SympyFormula(wspolrzedne))\n",
    "print(sec_ogolna.dumps())"
   ]
  },
  {
   "cell_type": "code",
   "execution_count": 0,
   "metadata": {
    "collapsed": false
   },
   "outputs": [
   ],
   "source": [
    "#Obliczanie pochodnych energi\n",
    "\n",
    "# Pierwsza współrzędna uogólniona phi_1\n",
    "lg1_1 = Ek.diff(phi1.diff(t)).diff(t) #d^2Ek/dt^2\n",
    "lg2_1 = Ek.diff(phi1)                 #dEk/dt\n",
    "lg3_1 = Ep.diff(phi1)                 #dEp/dt\n",
    "lg1_2 = Ek.diff(phi2.diff(t)).diff(t) #d^2Ek/dt^2\n",
    "lg2_2 = Ek.diff(phi2)                 #dEk/dt\n",
    "lg3_2 = Ep.diff(phi2)                 #dEp/dt\n",
    "\n",
    "#display(lg1_1)\n",
    "#display(lg2_1)\n",
    "#display(lg3_1)\n",
    "#display(lg1_2)\n",
    "#display(lg2_2)\n",
    "#display(lg3_2)"
   ]
  },
  {
   "cell_type": "code",
   "execution_count": 0,
   "metadata": {
    "collapsed": false
   },
   "outputs": [
   ],
   "source": [
    "lg_1=lg1_1-lg2_1+lg3_1 - T1\n",
    "lg_2=lg1_2-lg2_2+lg3_2 - T2\n",
    "lg_1=lg1_1-lg2_1+lg3_1 - T1\n",
    "lg_2=lg1_2-lg2_2+lg3_2 - T2\n",
    "\n",
    "SympyFormula.set_container(sec_ogolna)\n",
    "ReportText.set_container(sec_ogolna)\n",
    "Macierz_ruchu = Matrix([[lg_1], [lg_2]])\n",
    "display(ReportText('Macierz ruchu: \\n\\n'))\n",
    "display(SympyFormula(Eq(Macierz_ruchu.subs(dane),Matrix([[0],[0]]))))\n",
    "##subs podstawia nasze dane\n",
    "##Tworzenie macierzy fundamentalnej: \n"
   ]
  },
  {
   "cell_type": "code",
   "execution_count": 0,
   "metadata": {
    "collapsed": false
   },
   "outputs": [
   ],
   "source": [
    "C1, C2, r = symbols(\"C_1 C_2 r\")\n",
    "fi1 = Function(\"fi_1\")(t)\n",
    "\n",
    "r_char_eq1_1 = Eq(fi1, C1 * exp(r*t))\n",
    "display(r_char_eq1_1)\n",
    "\n",
    "r_char1_1 = lg_1.subs(phi1, r_char_eq1_1.rhs)  # podstawienie funkcji pod zmienną\n",
    "display(r_char1_1)\n",
    "r_char1_1 = r_char1_1.subs(T1, 0).subs(phi2,0) # usunięcie składowych T1 i phi2\n",
    "display(r_char1_1)\n",
    "r_char1_1 = r_char1_1.doit().expand()       # rozwinięcie różniczkowania funkcji\n",
    "display(r_char1_1)\n",
    "r_char1_1 = r_char1_1.coeff(C1 * exp(r*t))   # wydzielenie współczynnika\n",
    "display(r_char1_1)"
   ]
  },
  {
   "cell_type": "code",
   "execution_count": 0,
   "metadata": {
    "collapsed": false
   },
   "outputs": [
   ],
   "source": [
    "lg_1=lg1_1-lg2_1+lg3_1 - T1\n"
   ]
  },
  {
   "cell_type": "code",
   "execution_count": 0,
   "metadata": {
    "collapsed": false
   },
   "outputs": [
   ],
   "source": [
    "#macierz fundamentalna 2/4\n",
    "r_char_eq2_1 = Eq(fi1, C1 * exp(r*t))\n",
    "display(r_char_eq2_1)\n",
    "\n",
    "r_char2_1 = lg_2.subs(phi1, r_char_eq2_1.rhs)  # podstawienie funkcji pod zmienną\n",
    "display(r_char2_1)\n",
    "r_char2_1 = r_char2_1.subs(T1, 0).subs(phi2,0) # usunięcie składowych T1 i phi2\n",
    "display(r_char2_1)\n",
    "r_char2_1 = r_char2_1.doit().expand()       # rozwinięcie różniczkowania funkcji\n",
    "display(r_char2_1)\n",
    "r_char2_1 = r_char2_1.coeff(C1 * exp(r*t))   # wydzielenie współczynnika\n",
    "display(r_char2_1)"
   ]
  },
  {
   "cell_type": "code",
   "execution_count": 0,
   "metadata": {
    "collapsed": false
   },
   "outputs": [
   ],
   "source": [
    "#macierz fundamentalna 3/4\n",
    "fi2 = Function(\"fi_2\")(t)\n",
    "\n",
    "r_char_eq1_2 = Eq(fi2, C2 * exp(r*t))\n",
    "display(r_char_eq1_2)\n",
    "\n",
    "r_char1_2 = lg_1.subs(phi2, r_char_eq1_2.rhs)  # podstawienie funkcji pod zmienną\n",
    "display(r_char1_2)\n",
    "r_char1_2 = r_char1_2.subs(T2, 0).subs(phi1,0) # usunięcie składowych T2 i phi1\n",
    "display(r_char1_2)\n",
    "r_char1_2 = r_char1_2.doit().expand()       # rozwinięcie różniczkowania funkcji\n",
    "display(r_char1_2)\n",
    "r_char1_2 = r_char1_2.coeff(C2 * exp(r*t))   # wydzielenie współczynnika\n",
    "display(r_char1_2)"
   ]
  },
  {
   "cell_type": "code",
   "execution_count": 0,
   "metadata": {
    "collapsed": false
   },
   "outputs": [
   ],
   "source": [
    "#macierz fundamentalna 3/4\n",
    "fi2 = Function(\"fi_2\")(t)\n",
    "\n",
    "r_char_eq1_2 = Eq(fi2, C2 * exp(r*t))\n",
    "display(r_char_eq1_2)\n",
    "\n",
    "r_char1_2 = lg_1.subs(phi2, r_char_eq1_2.rhs)  # podstawienie funkcji pod zmienną\n",
    "display(r_char1_2)\n",
    "r_char1_2 = r_char1_2.subs(T2, 0).subs(phi1,0) # usunięcie składowych T2 i phi1\n",
    "display(r_char1_2)\n",
    "r_char1_2 = r_char1_2.doit().expand()       # rozwinięcie różniczkowania funkcji\n",
    "display(r_char1_2)\n",
    "r_char1_2 = r_char1_2.coeff(C2 * exp(r*t))   # wydzielenie współczynnika\n",
    "display(r_char1_2)"
   ]
  },
  {
   "cell_type": "code",
   "execution_count": 0,
   "metadata": {
    "collapsed": false
   },
   "outputs": [
   ],
   "source": [
    "#macierz fundamentalna złożenie\n",
    "Macierz_fundamentalna = Matrix([[r_char1_1, r_char2_1], [r_char1_2, r_char2_2]])\n",
    "#display(Macierz_fundamentalna)\n",
    "\n",
    "ReportText('Przechodząc do dalszych obliczeń rozpatrzmy nasze wspórzędne za pomocą liczb zespolonych: \\n\\n')\n",
    "display(SympyFormula(Eq(wspolrzedne,Matrix([[r_char_eq2_1.rhs],[r_char_eq2_2.rhs]]))))\n",
    "ReportText('Po wprowadzeniu następujących przekształceń współrzędnych doprowadzamy równanie do prostszej postaci. Usuwamy elementy kinematyki oraz iloczyny niezerowe. Po operacjach otrzymujemy następującą postać macierzy fundamentalnej: \\n\\n')\n",
    "\n",
    "#SympyFormula(Eq(Symbol('A'),Macierz_fundamentalna))\n",
    "\n",
    "SympyFormula(Macierz_fundamentalna)"
   ]
  },
  {
   "cell_type": "code",
   "execution_count": 0,
   "metadata": {
    "collapsed": false
   },
   "outputs": [
   ],
   "source": [
   ]
  },
  {
   "cell_type": "code",
   "execution_count": 0,
   "metadata": {
    "collapsed": false
   },
   "outputs": [
   ],
   "source": [
    "ReportText('Macierz sztywbości: \\n\\n')\n",
    "SympyFormula(Macierz_fundamentalna.subs(r,0))\n",
    "\n",
    "ReportText('macierz sztywności z podstawionymi danymi: \\n\\n')\n",
    "SympyForumla(Macierz_fundamentalna.subs(r,0).subs(dane))"
   ]
  },
  {
   "cell_type": "code",
   "execution_count": 0,
   "metadata": {
    "collapsed": false
   },
   "outputs": [
   ],
   "source": [
    "#wyznacznik macierzy fundamentalnej\n",
    "wyznacznik_macierzy_fundamentalnej = det(Macierz_fundamentalna)\n",
    "ReportText('W celu wyznaczenia częstości własnej musimy przyrównać wyznacznik macierzy fundamentalnej do 0. \\n\\n')\n",
    "display(SympyFormula(Eq(Symbol('det(A)'),0)))\n",
    "display(SympyFormula(Eq(Symbol('det(A)'),wyznacznik_macierzy_fundamentalnej)))\n",
    "ReportText('Dla naszych danych wyznacznik ten prezentuje sie nastepująco: \\n\\n')\n",
    "display(SympyFormula(Eq(Symbol('det(A)''), simpify(wyznacznik_macierzy_fundamentalnej.subs(dane)))"
   ]
  },
  {
   "cell_type": "code",
   "execution_count": 0,
   "metadata": {
    "collapsed": false
   },
   "outputs": [
   ],
   "source": [
    "# abs określa tylko i wyłącznie wartości bezwględne "
   ]
  },
  {
   "cell_type": "code",
   "execution_count": 12,
   "metadata": {
    "collapsed": false
   },
   "outputs": [
    {
     "ename": "TypeError",
     "evalue": "generate_tex() got an unexpected keyword argument 'clean_tex'",
     "output_type": "error",
     "traceback": [
      "\u001b[0;31m---------------------------------------------------------------------------\u001b[0m",
      "\u001b[0;31mTypeError\u001b[0m                                 Traceback (most recent call last)",
      "\u001b[0;32m/tmp/ipykernel_829/1826150759.py\u001b[0m in \u001b[0;36m<cell line: 4>\u001b[0;34m()\u001b[0m\n\u001b[1;32m      2\u001b[0m \u001b[0mRaport\u001b[0m\u001b[0;34m.\u001b[0m\u001b[0mappend\u001b[0m\u001b[0;34m(\u001b[0m\u001b[0msec_ogolna\u001b[0m\u001b[0;34m)\u001b[0m\u001b[0;34m\u001b[0m\u001b[0;34m\u001b[0m\u001b[0m\n\u001b[1;32m      3\u001b[0m \u001b[0;34m\u001b[0m\u001b[0m\n\u001b[0;32m----> 4\u001b[0;31m \u001b[0mRaport\u001b[0m\u001b[0;34m.\u001b[0m\u001b[0mgenerate_tex\u001b[0m\u001b[0;34m(\u001b[0m\u001b[0mclean_tex\u001b[0m \u001b[0;34m=\u001b[0m \u001b[0;32mFalse\u001b[0m\u001b[0;34m)\u001b[0m\u001b[0;34m\u001b[0m\u001b[0;34m\u001b[0m\u001b[0m\n\u001b[0m",
      "\u001b[0;31mTypeError\u001b[0m: generate_tex() got an unexpected keyword argument 'clean_tex'"
     ]
    }
   ],
   "source": [
    "Raport = Document('Raport - wal')\n",
    "Raport.append(sec_ogolna)\n",
    "\n",
    "Raport.generate_tex(clean_tex = False)"
   ]
  },
  {
   "cell_type": "code",
   "execution_count": 0,
   "metadata": {
    "collapsed": false
   },
   "outputs": [
   ],
   "source": [
   ]
  },
  {
   "cell_type": "code",
   "execution_count": 0,
   "metadata": {
    "collapsed": false
   },
   "outputs": [
   ],
   "source": [
   ]
  }
 ],
 "metadata": {
  "kernelspec": {
   "display_name": "Python 3 (system-wide)",
   "language": "python",
   "metadata": {
    "cocalc": {
     "description": "Python 3 programming language",
     "priority": 100,
     "url": "https://www.python.org/"
    }
   },
   "name": "python3",
   "resource_dir": "/ext/jupyter/kernels/python3"
  },
  "language_info": {
   "codemirror_mode": {
    "name": "ipython",
    "version": 3
   },
   "file_extension": ".py",
   "mimetype": "text/x-python",
   "name": "python",
   "nbconvert_exporter": "python",
   "pygments_lexer": "ipython3",
   "version": "3.8.10"
  }
 },
 "nbformat": 4,
 "nbformat_minor": 4
}